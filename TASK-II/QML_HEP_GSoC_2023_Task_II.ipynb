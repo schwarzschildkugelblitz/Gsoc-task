{
  "cells": [
    {
      "cell_type": "code",
      "execution_count": null,
      "metadata": {
        "colab": {
          "base_uri": "https://localhost:8080/"
        },
        "id": "b0cm88kKUkj3",
        "outputId": "7a9fc8a3-65db-4bcf-bb89-6bb41dce2bf4"
      },
      "outputs": [
        {
          "name": "stdout",
          "output_type": "stream",
          "text": [
            "Drive already mounted at /content/drive; to attempt to forcibly remount, call drive.mount(\"/content/drive\", force_remount=True).\n"
          ]
        }
      ],
      "source": [
        "from google.colab import drive\n",
        "drive.mount('/content/drive')"
      ]
    },
    {
      "cell_type": "code",
      "execution_count": null,
      "metadata": {
        "colab": {
          "base_uri": "https://localhost:8080/"
        },
        "id": "mx4a9eqTUMwZ",
        "outputId": "8d1491b4-8ace-429f-f814-c5c6f8ff935b"
      },
      "outputs": [
        {
          "name": "stdout",
          "output_type": "stream",
          "text": [
            "/content/drive/My Drive\n"
          ]
        }
      ],
      "source": [
        "%cd /content/drive/My Drive/"
      ]
    },
    {
      "cell_type": "code",
      "execution_count": null,
      "metadata": {
        "colab": {
          "base_uri": "https://localhost:8080/"
        },
        "id": "UQb5v07qbLwg",
        "outputId": "8abd9979-0267-410b-dae0-b46caef60cb3"
      },
      "outputs": [
        {
          "data": {
            "text/plain": [
              "('QG_jets.npz', <http.client.HTTPMessage at 0x7fa45a4ac550>)"
            ]
          },
          "execution_count": 3,
          "metadata": {},
          "output_type": "execute_result"
        }
      ],
      "source": [
        "import numpy as np\n",
        "import tensorflow as tf\n",
        "from tensorflow import keras\n",
        "import pandas as pd\n",
        "from sklearn.model_selection import train_test_split\n",
        "import urllib.request\n",
        "\n",
        "urllib.request.urlretrieve(\"https://zenodo.org/record/3164691/files/QG_jets_10.npz\", \"QG_jets.npz\")"
      ]
    },
    {
      "cell_type": "markdown",
      "metadata": {
        "id": "z1XsoJ_Rhmdu"
      },
      "source": [
        "# Task II: Classical Graph Neural Network (GNN) Part\n",
        "\n",
        "Use ParticleNet’s data for Quark/Gluon jet classification. Choose 2 Graph-based architectures of your choice to classify jets as being quarks or gluons. Provide a description on what considerations you have taken to project this point-cloud dataset to a set of interconnected nodes and edges. Discuss the resulting performance of the 2 chosen architectures."
      ]
    },
    {
      "cell_type": "markdown",
      "metadata": {
        "id": "L3ioG4namkht"
      },
      "source": [
        "## Overview of the Dataset\n"
      ]
    },
    {
      "cell_type": "markdown",
      "metadata": {
        "id": "mVsxir2bnSRD"
      },
      "source": [
        "The input file has 100k jets, exactly 50k quark and 50k gluon jets, randomly sorted. Every jet in the file contains  M  x  F  data where  M  is the maximum number of multiplicity of the jets in the file and  F  is the number of each particle's features (pt, rapidity, azimuthal angle, and Particle Data Group ID)."
      ]
    },
    {
      "cell_type": "markdown",
      "metadata": {
        "id": "MhOs8YI5iILx"
      },
      "source": [
        "## Graph-Based Architectures for Jet Classification: Selection and Considerations\n",
        "\n"
      ]
    },
    {
      "cell_type": "markdown",
      "metadata": {
        "id": "_r9PIYWodV2H"
      },
      "source": [
        "For this task, we will be using the Jet Classifciation[ paper](https://arxiv.org/abs/1902.08570) model of Particle-Net Lite and its code for jet classification. "
      ]
    },
    {
      "cell_type": "code",
      "execution_count": null,
      "metadata": {
        "colab": {
          "base_uri": "https://localhost:8080/"
        },
        "id": "pwcOaxLjP27L",
        "outputId": "738ff5d2-b314-4c81-9e94-bb08773c2f51"
      },
      "outputs": [
        {
          "name": "stdout",
          "output_type": "stream",
          "text": [
            "['X', 'y']\n"
          ]
        }
      ],
      "source": [
        "df = np.load('QG_jets.npz')\n",
        "lst = df.files\n",
        "print(list(df.keys()))"
      ]
    },
    {
      "cell_type": "markdown",
      "metadata": {
        "id": "fea6xmguT4_l"
      },
      "source": [
        "To enable the use of a softmax activation function used at the end of the ParticleNet-Lite networks, which is necessary for classification, the labels must be transformed into a one-hot format. This ensures that the output of the network represents the probability of the input particle belonging to each class, with a total probability of 1.0."
      ]
    },
    {
      "cell_type": "code",
      "execution_count": null,
      "metadata": {
        "colab": {
          "base_uri": "https://localhost:8080/"
        },
        "id": "AhEgXDn6ApSN",
        "outputId": "c3830fb0-bbda-444e-abc9-e0f69d728395"
      },
      "outputs": [
        {
          "name": "stdout",
          "output_type": "stream",
          "text": [
            "Total number of samples: 100000\n",
            "Maximum number of particles in a jet: 138\n",
            "Number of features: 4\n"
          ]
        }
      ],
      "source": [
        "# Extract data as per keys\n",
        "x = df['X']\n",
        "y = df['y']\n",
        "\n",
        "# Transform the labels to one-hot format\n",
        "y = tf.keras.utils.to_categorical(y)\n",
        "\n",
        "num_samples = x.shape[0]\n",
        "num_particles = x.shape[1]\n",
        "num_features = x.shape[2]\n",
        "print(\"Total number of samples:\", num_samples)\n",
        "print(\"Maximum number of particles in a jet:\", num_particles)\n",
        "print(\"Number of features:\", num_features)"
      ]
    },
    {
      "cell_type": "markdown",
      "metadata": {
        "id": "l5f1NOpdEAGx"
      },
      "source": [
        "### Preprocessing"
      ]
    },
    {
      "cell_type": "markdown",
      "metadata": {
        "id": "cafGdnlnpiZn"
      },
      "source": [
        "In the paper, dataset consisting of 2 million jets is split into 1.6M/200k/200k for training, validation and testing. So we follow similar 80/10/10 splitting."
      ]
    },
    {
      "cell_type": "code",
      "execution_count": null,
      "metadata": {
        "colab": {
          "base_uri": "https://localhost:8080/"
        },
        "id": "s3_PLK5UoDMI",
        "outputId": "256c4333-ab2d-4710-f142-e52fffc7b7a5"
      },
      "outputs": [
        {
          "name": "stdout",
          "output_type": "stream",
          "text": [
            "(80000, 138, 4) (80000, 2)\n",
            "(10000, 138, 4) (10000, 2)\n",
            "(10000, 138, 4) (10000, 2)\n"
          ]
        }
      ],
      "source": [
        "x_train, x_test, y_train, y_test = train_test_split(x, y, test_size=0.2, random_state=42)\n",
        "x_test, x_val, y_test, y_val = train_test_split(x_test, y_test, test_size=0.5, random_state=21)\n",
        "\n",
        "print(x_train.shape, y_train.shape)\n",
        "print(x_test.shape, y_test.shape)\n",
        "print(x_val.shape, y_val.shape)"
      ]
    },
    {
      "cell_type": "markdown",
      "metadata": {
        "id": "VePY5s5zuA2B"
      },
      "source": [
        "The model takes three input arrays:\n",
        "\n",
        "points: the coordinates of the particles in the (eta, phi) space. It should be an array with a shape of (N, P, 2), where N is the batch size and P is the number of particles.\n",
        "\n",
        "features: the features of the particles. It should be an array with a shape of (N, P, C), where N is the batch size, C is the number of features, and P is the number of particles.\n",
        "\n",
        "mask: a mask array with a shape of (N, P, 1), taking a value of 0 for padded positions.\n"
      ]
    },
    {
      "cell_type": "code",
      "execution_count": null,
      "metadata": {
        "id": "wR0BSlbiuKR8"
      },
      "outputs": [],
      "source": [
        "train_set = {\n",
        "    # the coordinates of the particles in the (eta, phi) space\n",
        "    'points': x_train[:, :, 1:3],\n",
        "    # the features of the particles \n",
        "    'features': x_train,\n",
        "    # a mask array, taking a value of 0 for padded positions\n",
        "    'mask': np.array(np.sum(x_train, axis=2) != 0, np.float32).reshape(len(x_train), num_particles, 1)\n",
        "}\n",
        "\n",
        "val_set = {\n",
        "    'points': x_val[:, :, 1:3],\n",
        "    'features': x_val,\n",
        "    'mask': np.array(np.sum(x_val, axis=2) != 0, np.float32).reshape(len(x_val), num_particles, 1)\n",
        "}\n",
        "\n",
        "test_set = {\n",
        "    'points': x_test[:, :, 1:3],\n",
        "    'features': x_test,\n",
        "    'mask': np.array(np.sum(x_test, axis=2) != 0, np.float32).reshape(len(x_test), num_particles, 1)\n",
        "}"
      ]
    },
    {
      "cell_type": "code",
      "execution_count": null,
      "metadata": {
        "colab": {
          "base_uri": "https://localhost:8080/"
        },
        "id": "GbJsFNtGUBPc",
        "outputId": "be138c15-b3dd-4e6a-cbb2-0d6fd1476b1f"
      },
      "outputs": [
        {
          "data": {
            "text/plain": [
              "{'points': (138, 2), 'features': (138, 4), 'mask': (138, 1)}"
            ]
          },
          "execution_count": 8,
          "metadata": {},
          "output_type": "execute_result"
        }
      ],
      "source": [
        "input_shape = {k:train_set[k].shape[1:] for k in train_set}\n",
        "input_shape"
      ]
    },
    {
      "cell_type": "markdown",
      "metadata": {
        "id": "EiA4YiFWWsBz"
      },
      "source": [
        "### ParticleNet-Lite Architecture"
      ]
    },
    {
      "cell_type": "markdown",
      "metadata": {
        "id": "Mo2-POd7WwW6"
      },
      "source": [
        "#### About the architecture"
      ]
    },
    {
      "cell_type": "markdown",
      "metadata": {
        "id": "scQ-F5bDW3P8"
      },
      "source": [
        "The ParticleNet-Lite architecture used here consists of two EdgeConv blocks. The first EdgeConv block uses the spatial coordinates\n",
        "of the particles in the pseudorapidity-azimuth space to\n",
        "compute the distances, while the subsequent blocks use\n",
        "the learned feature vectors as coordinates. The number\n",
        "of nearest neighbors k is 7 for all three blocks, and the\n",
        "number of channels C for each EdgeConv block is (32, 32, 32) and (64,\n",
        "64, 64) respectively. After the EdgeConv blocks, a channel-wise global average pooling operation is applied to aggregate the learned features over all particles in the cloud. This is followed by\n",
        "a fully connected layer with 128 units and the ReLU activation. A dropout layer with a drop probability of\n",
        "0.1 is included to prevent overfitting. A fully connected\n",
        "layer with two units, followed by a softmax function, is\n",
        "used to generate the output for the binary classification."
      ]
    },
    {
      "cell_type": "markdown",
      "metadata": {
        "id": "wANo1NO2ZL9v"
      },
      "source": [
        "![image.png](data:image/png;base64,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)"
      ]
    },
    {
      "cell_type": "markdown",
      "metadata": {
        "id": "zm0jvWUwXRnx"
      },
      "source": [
        "#### Implementation"
      ]
    },
    {
      "cell_type": "code",
      "execution_count": null,
      "metadata": {
        "id": "qGu6weCW_6-v"
      },
      "outputs": [],
      "source": [
        "import tf_keras_model\n",
        "from tf_keras_model import get_particle_net_lite\n",
        "\n",
        "num_classes = 2\n",
        "model = get_particle_net_lite(num_classes, input_shape)"
      ]
    },
    {
      "cell_type": "code",
      "execution_count": null,
      "metadata": {
        "colab": {
          "base_uri": "https://localhost:8080/"
        },
        "id": "qtdrQSRjABK7",
        "outputId": "f76c05ac-1e66-4f64-9784-e8ce248d548a"
      },
      "outputs": [
        {
          "name": "stdout",
          "output_type": "stream",
          "text": [
            "Model: \"ParticleNet\"\n",
            "__________________________________________________________________________________________________\n",
            " Layer (type)                   Output Shape         Param #     Connected to                     \n",
            "==================================================================================================\n",
            " mask (InputLayer)              [(None, 138, 1)]     0           []                               \n",
            "                                                                                                  \n",
            " tf.math.not_equal (TFOpLambda)  (None, 138, 1)      0           ['mask[0][0]']                   \n",
            "                                                                                                  \n",
            " tf.cast (TFOpLambda)           (None, 138, 1)       0           ['tf.math.not_equal[0][0]']      \n",
            "                                                                                                  \n",
            " tf.math.equal (TFOpLambda)     (None, 138, 1)       0           ['tf.cast[0][0]']                \n",
            "                                                                                                  \n",
            " tf.cast_1 (TFOpLambda)         (None, 138, 1)       0           ['tf.math.equal[0][0]']          \n",
            "                                                                                                  \n",
            " tf.math.multiply (TFOpLambda)  (None, 138, 1)       0           ['tf.cast_1[0][0]']              \n",
            "                                                                                                  \n",
            " points (InputLayer)            [(None, 138, 2)]     0           []                               \n",
            "                                                                                                  \n",
            " tf.math.add (TFOpLambda)       (None, 138, 2)       0           ['tf.math.multiply[0][0]',       \n",
            "                                                                  'points[0][0]']                 \n",
            "                                                                                                  \n",
            " features (InputLayer)          [(None, 138, 4)]     0           []                               \n",
            "                                                                                                  \n",
            " tf.compat.v1.transpose (TFOpLa  (None, 2, 138)      0           ['tf.math.add[0][0]']            \n",
            " mbda)                                                                                            \n",
            "                                                                                                  \n",
            " tf.expand_dims (TFOpLambda)    (None, 138, 1, 4)    0           ['features[0][0]']               \n",
            "                                                                                                  \n",
            " tf.math.multiply_1 (TFOpLambda  (None, 138, 2)      0           ['tf.math.add[0][0]',            \n",
            " )                                                                'tf.math.add[0][0]']            \n",
            "                                                                                                  \n",
            " tf.linalg.matmul (TFOpLambda)  (None, 138, 138)     0           ['tf.math.add[0][0]',            \n",
            "                                                                  'tf.compat.v1.transpose[0][0]'] \n",
            "                                                                                                  \n",
            " tf.math.multiply_2 (TFOpLambda  (None, 138, 2)      0           ['tf.math.add[0][0]',            \n",
            " )                                                                'tf.math.add[0][0]']            \n",
            "                                                                                                  \n",
            " ParticleNet_fts_bn (BatchNorma  (None, 138, 1, 4)   16          ['tf.expand_dims[0][0]']         \n",
            " lization)                                                                                        \n",
            "                                                                                                  \n",
            " tf.math.reduce_sum (TFOpLambda  (None, 138, 1)      0           ['tf.math.multiply_1[0][0]']     \n",
            " )                                                                                                \n",
            "                                                                                                  \n",
            " tf.math.multiply_3 (TFOpLambda  (None, 138, 138)    0           ['tf.linalg.matmul[0][0]']       \n",
            " )                                                                                                \n",
            "                                                                                                  \n",
            " tf.math.reduce_sum_1 (TFOpLamb  (None, 138, 1)      0           ['tf.math.multiply_2[0][0]']     \n",
            " da)                                                                                              \n",
            "                                                                                                  \n",
            " tf.compat.v1.squeeze (TFOpLamb  (None, 138, 4)      0           ['ParticleNet_fts_bn[0][0]']     \n",
            " da)                                                                                              \n",
            "                                                                                                  \n",
            " tf.math.subtract (TFOpLambda)  (None, 138, 138)     0           ['tf.math.reduce_sum[0][0]',     \n",
            "                                                                  'tf.math.multiply_3[0][0]']     \n",
            "                                                                                                  \n",
            " tf.compat.v1.transpose_1 (TFOp  (None, 1, 138)      0           ['tf.math.reduce_sum_1[0][0]']   \n",
            " Lambda)                                                                                          \n",
            "                                                                                                  \n",
            " tf.compat.v1.shape (TFOpLambda  (3,)                0           ['tf.compat.v1.squeeze[0][0]']   \n",
            " )                                                                                                \n",
            "                                                                                                  \n",
            " tf.__operators__.add (TFOpLamb  (None, 138, 138)    0           ['tf.math.subtract[0][0]',       \n",
            " da)                                                              'tf.compat.v1.transpose_1[0][0]'\n",
            "                                                                 ]                                \n",
            "                                                                                                  \n",
            " tf.__operators__.getitem_1 (Sl  ()                  0           ['tf.compat.v1.shape[0][0]']     \n",
            " icingOpLambda)                                                                                   \n",
            "                                                                                                  \n",
            " tf.math.negative (TFOpLambda)  (None, 138, 138)     0           ['tf.__operators__.add[0][0]']   \n",
            "                                                                                                  \n",
            " tf.range (TFOpLambda)          (None,)              0           ['tf.__operators__.getitem_1[0][0\n",
            "                                                                 ]']                              \n",
            "                                                                                                  \n",
            " tf.math.top_k (TFOpLambda)     TopKV2(values=(None  0           ['tf.math.negative[0][0]']       \n",
            "                                , 138, 8),                                                        \n",
            "                                 indices=(None, 138                                               \n",
            "                                , 8))                                                             \n",
            "                                                                                                  \n",
            " tf.reshape (TFOpLambda)        (None, 1, 1, 1)      0           ['tf.range[0][0]']               \n",
            "                                                                                                  \n",
            " tf.__operators__.getitem (Slic  (None, 138, 7)      0           ['tf.math.top_k[0][1]']          \n",
            " ingOpLambda)                                                                                     \n",
            "                                                                                                  \n",
            " tf.tile (TFOpLambda)           (None, 138, 7, 1)    0           ['tf.reshape[0][0]']             \n",
            "                                                                                                  \n",
            " tf.expand_dims_1 (TFOpLambda)  (None, 138, 7, 1)    0           ['tf.__operators__.getitem[0][0]'\n",
            "                                                                 ]                                \n",
            "                                                                                                  \n",
            " tf.expand_dims_2 (TFOpLambda)  (None, 138, 1, 4)    0           ['tf.compat.v1.squeeze[0][0]']   \n",
            "                                                                                                  \n",
            " tf.concat (TFOpLambda)         (None, 138, 7, 2)    0           ['tf.tile[0][0]',                \n",
            "                                                                  'tf.expand_dims_1[0][0]']       \n",
            "                                                                                                  \n",
            " tf.tile_1 (TFOpLambda)         (None, 138, 7, 4)    0           ['tf.expand_dims_2[0][0]']       \n",
            "                                                                                                  \n",
            " tf.compat.v1.gather_nd (TFOpLa  (None, 138, 7, 4)   0           ['tf.compat.v1.squeeze[0][0]',   \n",
            " mbda)                                                            'tf.concat[0][0]']              \n",
            "                                                                                                  \n",
            " tf.math.subtract_1 (TFOpLambda  (None, 138, 7, 4)   0           ['tf.compat.v1.gather_nd[0][0]', \n",
            " )                                                                'tf.tile_1[0][0]']              \n",
            "                                                                                                  \n",
            " tf.concat_1 (TFOpLambda)       (None, 138, 7, 8)    0           ['tf.tile_1[0][0]',              \n",
            "                                                                  'tf.math.subtract_1[0][0]']     \n",
            "                                                                                                  \n",
            " ParticleNet_EdgeConv0_conv0 (C  (None, 138, 7, 32)  256         ['tf.concat_1[0][0]']            \n",
            " onv2D)                                                                                           \n",
            "                                                                                                  \n",
            " ParticleNet_EdgeConv0_bn0 (Bat  (None, 138, 7, 32)  128         ['ParticleNet_EdgeConv0_conv0[0][\n",
            " chNormalization)                                                0]']                             \n",
            "                                                                                                  \n",
            " ParticleNet_EdgeConv0_act0 (Ac  (None, 138, 7, 32)  0           ['ParticleNet_EdgeConv0_bn0[0][0]\n",
            " tivation)                                                       ']                               \n",
            "                                                                                                  \n",
            " ParticleNet_EdgeConv0_conv1 (C  (None, 138, 7, 32)  1024        ['ParticleNet_EdgeConv0_act0[0][0\n",
            " onv2D)                                                          ]']                              \n",
            "                                                                                                  \n",
            " ParticleNet_EdgeConv0_bn1 (Bat  (None, 138, 7, 32)  128         ['ParticleNet_EdgeConv0_conv1[0][\n",
            " chNormalization)                                                0]']                             \n",
            "                                                                                                  \n",
            " ParticleNet_EdgeConv0_act1 (Ac  (None, 138, 7, 32)  0           ['ParticleNet_EdgeConv0_bn1[0][0]\n",
            " tivation)                                                       ']                               \n",
            "                                                                                                  \n",
            " tf.expand_dims_3 (TFOpLambda)  (None, 138, 1, 4)    0           ['tf.compat.v1.squeeze[0][0]']   \n",
            "                                                                                                  \n",
            " ParticleNet_EdgeConv0_conv2 (C  (None, 138, 7, 32)  1024        ['ParticleNet_EdgeConv0_act1[0][0\n",
            " onv2D)                                                          ]']                              \n",
            "                                                                                                  \n",
            " ParticleNet_EdgeConv0_sc_conv   (None, 138, 1, 32)  128         ['tf.expand_dims_3[0][0]']       \n",
            " (Conv2D)                                                                                         \n",
            "                                                                                                  \n",
            " ParticleNet_EdgeConv0_bn2 (Bat  (None, 138, 7, 32)  128         ['ParticleNet_EdgeConv0_conv2[0][\n",
            " chNormalization)                                                0]']                             \n",
            "                                                                                                  \n",
            " ParticleNet_EdgeConv0_sc_bn (B  (None, 138, 1, 32)  128         ['ParticleNet_EdgeConv0_sc_conv[0\n",
            " atchNormalization)                                              ][0]']                           \n",
            "                                                                                                  \n",
            " ParticleNet_EdgeConv0_act2 (Ac  (None, 138, 7, 32)  0           ['ParticleNet_EdgeConv0_bn2[0][0]\n",
            " tivation)                                                       ']                               \n",
            "                                                                                                  \n",
            " tf.compat.v1.squeeze_1 (TFOpLa  (None, 138, 32)     0           ['ParticleNet_EdgeConv0_sc_bn[0][\n",
            " mbda)                                                           0]']                             \n",
            "                                                                                                  \n",
            " tf.math.reduce_mean (TFOpLambd  (None, 138, 32)     0           ['ParticleNet_EdgeConv0_act2[0][0\n",
            " a)                                                              ]']                              \n",
            "                                                                                                  \n",
            " tf.__operators__.add_1 (TFOpLa  (None, 138, 32)     0           ['tf.compat.v1.squeeze_1[0][0]', \n",
            " mbda)                                                            'tf.math.reduce_mean[0][0]']    \n",
            "                                                                                                  \n",
            " ParticleNet_EdgeConv0_sc_act (  (None, 138, 32)     0           ['tf.__operators__.add_1[0][0]'] \n",
            " Activation)                                                                                      \n",
            "                                                                                                  \n",
            " tf.math.add_1 (TFOpLambda)     (None, 138, 32)      0           ['tf.math.multiply[0][0]',       \n",
            "                                                                  'ParticleNet_EdgeConv0_sc_act[0]\n",
            "                                                                 [0]']                            \n",
            "                                                                                                  \n",
            " tf.compat.v1.transpose_2 (TFOp  (None, 32, 138)     0           ['tf.math.add_1[0][0]']          \n",
            " Lambda)                                                                                          \n",
            "                                                                                                  \n",
            " tf.math.multiply_4 (TFOpLambda  (None, 138, 32)     0           ['tf.math.add_1[0][0]',          \n",
            " )                                                                'tf.math.add_1[0][0]']          \n",
            "                                                                                                  \n",
            " tf.linalg.matmul_1 (TFOpLambda  (None, 138, 138)    0           ['tf.math.add_1[0][0]',          \n",
            " )                                                                'tf.compat.v1.transpose_2[0][0]'\n",
            "                                                                 ]                                \n",
            "                                                                                                  \n",
            " tf.math.multiply_5 (TFOpLambda  (None, 138, 32)     0           ['tf.math.add_1[0][0]',          \n",
            " )                                                                'tf.math.add_1[0][0]']          \n",
            "                                                                                                  \n",
            " tf.math.reduce_sum_2 (TFOpLamb  (None, 138, 1)      0           ['tf.math.multiply_4[0][0]']     \n",
            " da)                                                                                              \n",
            "                                                                                                  \n",
            " tf.math.multiply_6 (TFOpLambda  (None, 138, 138)    0           ['tf.linalg.matmul_1[0][0]']     \n",
            " )                                                                                                \n",
            "                                                                                                  \n",
            " tf.math.reduce_sum_3 (TFOpLamb  (None, 138, 1)      0           ['tf.math.multiply_5[0][0]']     \n",
            " da)                                                                                              \n",
            "                                                                                                  \n",
            " tf.math.subtract_2 (TFOpLambda  (None, 138, 138)    0           ['tf.math.reduce_sum_2[0][0]',   \n",
            " )                                                                'tf.math.multiply_6[0][0]']     \n",
            "                                                                                                  \n",
            " tf.compat.v1.transpose_3 (TFOp  (None, 1, 138)      0           ['tf.math.reduce_sum_3[0][0]']   \n",
            " Lambda)                                                                                          \n",
            "                                                                                                  \n",
            " tf.compat.v1.shape_1 (TFOpLamb  (3,)                0           ['ParticleNet_EdgeConv0_sc_act[0]\n",
            " da)                                                             [0]']                            \n",
            "                                                                                                  \n",
            " tf.__operators__.add_2 (TFOpLa  (None, 138, 138)    0           ['tf.math.subtract_2[0][0]',     \n",
            " mbda)                                                            'tf.compat.v1.transpose_3[0][0]'\n",
            "                                                                 ]                                \n",
            "                                                                                                  \n",
            " tf.__operators__.getitem_3 (Sl  ()                  0           ['tf.compat.v1.shape_1[0][0]']   \n",
            " icingOpLambda)                                                                                   \n",
            "                                                                                                  \n",
            " tf.math.negative_1 (TFOpLambda  (None, 138, 138)    0           ['tf.__operators__.add_2[0][0]'] \n",
            " )                                                                                                \n",
            "                                                                                                  \n",
            " tf.range_1 (TFOpLambda)        (None,)              0           ['tf.__operators__.getitem_3[0][0\n",
            "                                                                 ]']                              \n",
            "                                                                                                  \n",
            " tf.math.top_k_1 (TFOpLambda)   TopKV2(values=(None  0           ['tf.math.negative_1[0][0]']     \n",
            "                                , 138, 8),                                                        \n",
            "                                 indices=(None, 138                                               \n",
            "                                , 8))                                                             \n",
            "                                                                                                  \n",
            " tf.reshape_1 (TFOpLambda)      (None, 1, 1, 1)      0           ['tf.range_1[0][0]']             \n",
            "                                                                                                  \n",
            " tf.__operators__.getitem_2 (Sl  (None, 138, 7)      0           ['tf.math.top_k_1[0][1]']        \n",
            " icingOpLambda)                                                                                   \n",
            "                                                                                                  \n",
            " tf.tile_2 (TFOpLambda)         (None, 138, 7, 1)    0           ['tf.reshape_1[0][0]']           \n",
            "                                                                                                  \n",
            " tf.expand_dims_4 (TFOpLambda)  (None, 138, 7, 1)    0           ['tf.__operators__.getitem_2[0][0\n",
            "                                                                 ]']                              \n",
            "                                                                                                  \n",
            " tf.expand_dims_5 (TFOpLambda)  (None, 138, 1, 32)   0           ['ParticleNet_EdgeConv0_sc_act[0]\n",
            "                                                                 [0]']                            \n",
            "                                                                                                  \n",
            " tf.concat_2 (TFOpLambda)       (None, 138, 7, 2)    0           ['tf.tile_2[0][0]',              \n",
            "                                                                  'tf.expand_dims_4[0][0]']       \n",
            "                                                                                                  \n",
            " tf.tile_3 (TFOpLambda)         (None, 138, 7, 32)   0           ['tf.expand_dims_5[0][0]']       \n",
            "                                                                                                  \n",
            " tf.compat.v1.gather_nd_1 (TFOp  (None, 138, 7, 32)  0           ['ParticleNet_EdgeConv0_sc_act[0]\n",
            " Lambda)                                                         [0]',                            \n",
            "                                                                  'tf.concat_2[0][0]']            \n",
            "                                                                                                  \n",
            " tf.math.subtract_3 (TFOpLambda  (None, 138, 7, 32)  0           ['tf.compat.v1.gather_nd_1[0][0]'\n",
            " )                                                               , 'tf.tile_3[0][0]']             \n",
            "                                                                                                  \n",
            " tf.concat_3 (TFOpLambda)       (None, 138, 7, 64)   0           ['tf.tile_3[0][0]',              \n",
            "                                                                  'tf.math.subtract_3[0][0]']     \n",
            "                                                                                                  \n",
            " ParticleNet_EdgeConv1_conv0 (C  (None, 138, 7, 64)  4096        ['tf.concat_3[0][0]']            \n",
            " onv2D)                                                                                           \n",
            "                                                                                                  \n",
            " ParticleNet_EdgeConv1_bn0 (Bat  (None, 138, 7, 64)  256         ['ParticleNet_EdgeConv1_conv0[0][\n",
            " chNormalization)                                                0]']                             \n",
            "                                                                                                  \n",
            " ParticleNet_EdgeConv1_act0 (Ac  (None, 138, 7, 64)  0           ['ParticleNet_EdgeConv1_bn0[0][0]\n",
            " tivation)                                                       ']                               \n",
            "                                                                                                  \n",
            " ParticleNet_EdgeConv1_conv1 (C  (None, 138, 7, 64)  4096        ['ParticleNet_EdgeConv1_act0[0][0\n",
            " onv2D)                                                          ]']                              \n",
            "                                                                                                  \n",
            " ParticleNet_EdgeConv1_bn1 (Bat  (None, 138, 7, 64)  256         ['ParticleNet_EdgeConv1_conv1[0][\n",
            " chNormalization)                                                0]']                             \n",
            "                                                                                                  \n",
            " ParticleNet_EdgeConv1_act1 (Ac  (None, 138, 7, 64)  0           ['ParticleNet_EdgeConv1_bn1[0][0]\n",
            " tivation)                                                       ']                               \n",
            "                                                                                                  \n",
            " tf.expand_dims_6 (TFOpLambda)  (None, 138, 1, 32)   0           ['ParticleNet_EdgeConv0_sc_act[0]\n",
            "                                                                 [0]']                            \n",
            "                                                                                                  \n",
            " ParticleNet_EdgeConv1_conv2 (C  (None, 138, 7, 64)  4096        ['ParticleNet_EdgeConv1_act1[0][0\n",
            " onv2D)                                                          ]']                              \n",
            "                                                                                                  \n",
            " ParticleNet_EdgeConv1_sc_conv   (None, 138, 1, 64)  2048        ['tf.expand_dims_6[0][0]']       \n",
            " (Conv2D)                                                                                         \n",
            "                                                                                                  \n",
            " ParticleNet_EdgeConv1_bn2 (Bat  (None, 138, 7, 64)  256         ['ParticleNet_EdgeConv1_conv2[0][\n",
            " chNormalization)                                                0]']                             \n",
            "                                                                                                  \n",
            " ParticleNet_EdgeConv1_sc_bn (B  (None, 138, 1, 64)  256         ['ParticleNet_EdgeConv1_sc_conv[0\n",
            " atchNormalization)                                              ][0]']                           \n",
            "                                                                                                  \n",
            " ParticleNet_EdgeConv1_act2 (Ac  (None, 138, 7, 64)  0           ['ParticleNet_EdgeConv1_bn2[0][0]\n",
            " tivation)                                                       ']                               \n",
            "                                                                                                  \n",
            " tf.compat.v1.squeeze_2 (TFOpLa  (None, 138, 64)     0           ['ParticleNet_EdgeConv1_sc_bn[0][\n",
            " mbda)                                                           0]']                             \n",
            "                                                                                                  \n",
            " tf.math.reduce_mean_1 (TFOpLam  (None, 138, 64)     0           ['ParticleNet_EdgeConv1_act2[0][0\n",
            " bda)                                                            ]']                              \n",
            "                                                                                                  \n",
            " tf.__operators__.add_3 (TFOpLa  (None, 138, 64)     0           ['tf.compat.v1.squeeze_2[0][0]', \n",
            " mbda)                                                            'tf.math.reduce_mean_1[0][0]']  \n",
            "                                                                                                  \n",
            " ParticleNet_EdgeConv1_sc_act (  (None, 138, 64)     0           ['tf.__operators__.add_3[0][0]'] \n",
            " Activation)                                                                                      \n",
            "                                                                                                  \n",
            " tf.math.multiply_7 (TFOpLambda  (None, 138, 64)     0           ['ParticleNet_EdgeConv1_sc_act[0]\n",
            " )                                                               [0]',                            \n",
            "                                                                  'tf.cast[0][0]']                \n",
            "                                                                                                  \n",
            " tf.math.reduce_mean_2 (TFOpLam  (None, 64)          0           ['tf.math.multiply_7[0][0]']     \n",
            " bda)                                                                                             \n",
            "                                                                                                  \n",
            " dense (Dense)                  (None, 128)          8320        ['tf.math.reduce_mean_2[0][0]']  \n",
            "                                                                                                  \n",
            " dropout (Dropout)              (None, 128)          0           ['dense[0][0]']                  \n",
            "                                                                                                  \n",
            " dense_1 (Dense)                (None, 2)            258         ['dropout[0][0]']                \n",
            "                                                                                                  \n",
            "==================================================================================================\n",
            "Total params: 26,898\n",
            "Trainable params: 26,122\n",
            "Non-trainable params: 776\n",
            "__________________________________________________________________________________________________\n"
          ]
        }
      ],
      "source": [
        "import logging\n",
        "logging.basicConfig(level=logging.INFO,\n",
        "                    format='[%(asctime)s] %(levelname)s: %(message)s')\n",
        "# Training parameters\n",
        "batch_size = 1024\n",
        "epochs = 25\n",
        "def lr_schedule(epoch):\n",
        "    lr = 1e-3\n",
        "    if epoch > 10:\n",
        "        lr *= 0.1\n",
        "    elif epoch > 20:\n",
        "        lr *= 0.01\n",
        "    logging.info('Learning rate: %f' % lr)\n",
        "    return lr\n",
        "model.compile(loss='categorical_crossentropy',\n",
        "              optimizer=keras.optimizers.Adam(learning_rate=lr_schedule(0)),\n",
        "              metrics=['accuracy'])\n",
        "model.summary()"
      ]
    },
    {
      "cell_type": "code",
      "execution_count": null,
      "metadata": {
        "colab": {
          "background_save": true,
          "base_uri": "https://localhost:8080/"
        },
        "id": "wSZnNjKmVfgQ",
        "outputId": "f3efd151-a0f1-4ff5-b409-d192a8c1b247"
      },
      "outputs": [
        {
          "name": "stdout",
          "output_type": "stream",
          "text": [
            "Epoch 1/100\n",
            "      0/Unknown - 490s 0s/sample - loss: 0.5310 - accuracy: 0.7362\n",
            "Epoch 1: val_accuracy improved from -inf to 0.60640, saving model to model_checkpoints/particle_net_lite_model.001.h5\n",
            "79/79 [==============================] - 504s 6s/sample - loss: 0.5310 - accuracy: 0.7362 - val_loss: 0.6167 - val_accuracy: 0.6064 - lr: 0.0010\n",
            "Epoch 2/100\n",
            " 0/79 [..............................] - ETA: 0s - loss: 0.4794 - accuracy: 0.7765\n",
            "Epoch 2: val_accuracy improved from 0.60640 to 0.74290, saving model to model_checkpoints/particle_net_lite_model.002.h5\n",
            "79/79 [==============================] - 496s 6s/sample - loss: 0.4794 - accuracy: 0.7765 - val_loss: 0.5353 - val_accuracy: 0.7429 - lr: 0.0010\n",
            "Epoch 3/100\n",
            " 0/79 [..............................] - ETA: 0s - loss: 0.4711 - accuracy: 0.7845\n",
            "Epoch 3: val_accuracy improved from 0.74290 to 0.77000, saving model to model_checkpoints/particle_net_lite_model.003.h5\n",
            "79/79 [==============================] - 490s 6s/sample - loss: 0.4711 - accuracy: 0.7845 - val_loss: 0.5035 - val_accuracy: 0.7700 - lr: 0.0010\n",
            "Epoch 4/100\n",
            " 0/79 [..............................] - ETA: 0s - loss: 0.4645 - accuracy: 0.7885\n",
            "Epoch 4: val_accuracy improved from 0.77000 to 0.78950, saving model to model_checkpoints/particle_net_lite_model.004.h5\n",
            "79/79 [==============================] - 478s 6s/sample - loss: 0.4645 - accuracy: 0.7885 - val_loss: 0.4778 - val_accuracy: 0.7895 - lr: 0.0010\n",
            "Epoch 5/100\n",
            " 0/79 [..............................] - ETA: 0s - loss: 0.4585 - accuracy: 0.7929\n",
            "Epoch 5: val_accuracy did not improve from 0.78950\n",
            "79/79 [==============================] - 468s 6s/sample - loss: 0.4585 - accuracy: 0.7929 - val_loss: 0.4651 - val_accuracy: 0.7868 - lr: 0.0010\n",
            "Epoch 6/100\n",
            " 0/79 [..............................] - ETA: 0s - loss: 0.4533 - accuracy: 0.7958\n",
            "Epoch 6: val_accuracy improved from 0.78950 to 0.79210, saving model to model_checkpoints/particle_net_lite_model.006.h5\n",
            "79/79 [==============================] - 472s 6s/sample - loss: 0.4533 - accuracy: 0.7958 - val_loss: 0.4598 - val_accuracy: 0.7921 - lr: 0.0010\n",
            "Epoch 7/100\n",
            " 0/79 [..............................] - ETA: 0s - loss: 0.4510 - accuracy: 0.7973\n",
            "Epoch 7: val_accuracy improved from 0.79210 to 0.79870, saving model to model_checkpoints/particle_net_lite_model.007.h5\n",
            "79/79 [==============================] - 472s 6s/sample - loss: 0.4510 - accuracy: 0.7973 - val_loss: 0.4525 - val_accuracy: 0.7987 - lr: 0.0010\n",
            "Epoch 8/100\n",
            " 0/79 [..............................] - ETA: 0s - loss: 0.4462 - accuracy: 0.8004\n",
            "Epoch 8: val_accuracy did not improve from 0.79870\n",
            "79/79 [==============================] - 477s 6s/sample - loss: 0.4462 - accuracy: 0.8004 - val_loss: 0.4598 - val_accuracy: 0.7958 - lr: 0.0010\n",
            "Epoch 9/100\n",
            " 0/79 [..............................] - ETA: 0s - loss: 0.4438 - accuracy: 0.8018\n",
            "Epoch 9: val_accuracy did not improve from 0.79870\n",
            "79/79 [==============================] - 468s 6s/sample - loss: 0.4438 - accuracy: 0.8018 - val_loss: 0.4604 - val_accuracy: 0.7920 - lr: 0.0010\n",
            "Epoch 10/100\n",
            " 0/79 [..............................] - ETA: 0s - loss: 0.4405 - accuracy: 0.8034\n",
            "Epoch 10: val_accuracy did not improve from 0.79870\n",
            "79/79 [==============================] - 470s 6s/sample - loss: 0.4405 - accuracy: 0.8034 - val_loss: 0.4649 - val_accuracy: 0.7841 - lr: 0.0010\n",
            "Epoch 11/100\n",
            " 0/79 [..............................] - ETA: 0s - loss: 0.4404 - accuracy: 0.8031\n",
            "Epoch 11: val_accuracy improved from 0.79870 to 0.80290, saving model to model_checkpoints/particle_net_lite_model.011.h5\n",
            "79/79 [==============================] - 470s 6s/sample - loss: 0.4404 - accuracy: 0.8031 - val_loss: 0.4442 - val_accuracy: 0.8029 - lr: 0.0010\n",
            "Epoch 12/100\n",
            " 0/79 [..............................] - ETA: 0s - loss: 0.4348 - accuracy: 0.8071\n",
            "Epoch 12: val_accuracy improved from 0.80290 to 0.81010, saving model to model_checkpoints/particle_net_lite_model.012.h5\n",
            "79/79 [==============================] - 464s 6s/sample - loss: 0.4348 - accuracy: 0.8071 - val_loss: 0.4381 - val_accuracy: 0.8101 - lr: 1.0000e-04\n",
            "Epoch 13/100\n",
            " 0/79 [..............................] - ETA: 0s - loss: 0.4327 - accuracy: 0.8074\n",
            "Epoch 13: val_accuracy did not improve from 0.81010\n",
            "79/79 [==============================] - 464s 6s/sample - loss: 0.4327 - accuracy: 0.8074 - val_loss: 0.4377 - val_accuracy: 0.8076 - lr: 1.0000e-04\n",
            "Epoch 14/100\n",
            " 0/79 [..............................] - ETA: 0s - loss: 0.4320 - accuracy: 0.8080\n",
            "Epoch 14: val_accuracy did not improve from 0.81010\n",
            "79/79 [==============================] - 465s 6s/sample - loss: 0.4320 - accuracy: 0.8080 - val_loss: 0.4368 - val_accuracy: 0.8093 - lr: 1.0000e-04\n",
            "Epoch 15/100\n",
            " 0/79 [..............................] - ETA: 0s - loss: 0.4319 - accuracy: 0.8077\n",
            "Epoch 15: val_accuracy did not improve from 0.81010\n",
            "79/79 [==============================] - 469s 6s/sample - loss: 0.4319 - accuracy: 0.8077 - val_loss: 0.4367 - val_accuracy: 0.8092 - lr: 1.0000e-04\n",
            "Epoch 16/100\n",
            " 0/79 [..............................] - ETA: 0s - loss: 0.4314 - accuracy: 0.8084\n",
            "Epoch 16: val_accuracy did not improve from 0.81010\n",
            "79/79 [==============================] - 464s 6s/sample - loss: 0.4314 - accuracy: 0.8084 - val_loss: 0.4360 - val_accuracy: 0.8099 - lr: 1.0000e-04\n",
            "Epoch 17/100\n",
            " 0/79 [..............................] - ETA: 0s - loss: 0.4310 - accuracy: 0.8090\n",
            "Epoch 17: val_accuracy did not improve from 0.81010\n",
            "79/79 [==============================] - 512s 6s/sample - loss: 0.4310 - accuracy: 0.8090 - val_loss: 0.4363 - val_accuracy: 0.8100 - lr: 1.0000e-04\n",
            "Epoch 18/100\n",
            " 0/79 [..............................] - ETA: 0s - loss: 0.4308 - accuracy: 0.8091\n",
            "Epoch 18: val_accuracy did not improve from 0.81010\n",
            "79/79 [==============================] - 487s 6s/sample - loss: 0.4308 - accuracy: 0.8091 - val_loss: 0.4361 - val_accuracy: 0.8101 - lr: 1.0000e-04\n",
            "Epoch 19/100\n",
            " 0/79 [..............................] - ETA: 0s - loss: 0.4305 - accuracy: 0.8084\n",
            "Epoch 19: val_accuracy improved from 0.81010 to 0.81190, saving model to model_checkpoints/particle_net_lite_model.019.h5\n",
            "79/79 [==============================] - 501s 6s/sample - loss: 0.4305 - accuracy: 0.8084 - val_loss: 0.4359 - val_accuracy: 0.8119 - lr: 1.0000e-04\n",
            "Epoch 20/100\n",
            " 0/79 [..............................] - ETA: 0s - loss: 0.4302 - accuracy: 0.8097\n",
            "Epoch 20: val_accuracy did not improve from 0.81190\n",
            "79/79 [==============================] - 473s 6s/sample - loss: 0.4302 - accuracy: 0.8097 - val_loss: 0.4381 - val_accuracy: 0.8057 - lr: 1.0000e-04\n",
            "Epoch 21/100\n",
            " 0/79 [..............................] - ETA: 0s - loss: 0.4300 - accuracy: 0.8088\n",
            "Epoch 21: val_accuracy did not improve from 0.81190\n",
            "79/79 [==============================] - 484s 6s/sample - loss: 0.4300 - accuracy: 0.8088 - val_loss: 0.4355 - val_accuracy: 0.8106 - lr: 1.0000e-04\n",
            "Epoch 22/100\n",
            " 0/79 [..............................] - ETA: 0s - loss: 0.4301 - accuracy: 0.8091\n",
            "Epoch 22: val_accuracy did not improve from 0.81190\n",
            "79/79 [==============================] - 488s 6s/sample - loss: 0.4301 - accuracy: 0.8091 - val_loss: 0.4352 - val_accuracy: 0.8088 - lr: 1.0000e-04\n",
            "Epoch 23/100\n",
            " 0/79 [..............................] - ETA: 0s - loss: 0.4291 - accuracy: 0.8097\n",
            "Epoch 23: val_accuracy improved from 0.81190 to 0.81280, saving model to model_checkpoints/particle_net_lite_model.023.h5\n",
            "79/79 [==============================] - 476s 6s/sample - loss: 0.4291 - accuracy: 0.8097 - val_loss: 0.4355 - val_accuracy: 0.8128 - lr: 1.0000e-04\n",
            "Epoch 24/100\n",
            " 0/79 [..............................] - ETA: 0s - loss: 0.4292 - accuracy: 0.8096\n",
            "Epoch 24: val_accuracy did not improve from 0.81280\n",
            "79/79 [==============================] - 474s 6s/sample - loss: 0.4292 - accuracy: 0.8096 - val_loss: 0.4348 - val_accuracy: 0.8095 - lr: 1.0000e-04\n",
            "Epoch 25/100\n",
            " 0/79 [..............................] - ETA: 0s - loss: 0.4286 - accuracy: 0.8103\n",
            "Epoch 25: val_accuracy did not improve from 0.81280\n",
            "79/79 [==============================] - 480s 6s/sample - loss: 0.4286 - accuracy: 0.8103 - val_loss: 0.4358 - val_accuracy: 0.8120 - lr: 1.0000e-04\n"
          ]
        }
      ],
      "source": [
        "import os\n",
        "save_dir = 'model_checkpoints'\n",
        "model_name = '%s_model.{epoch:03d}.h5' % 'particle_net_lite'\n",
        "if not os.path.isdir(save_dir):\n",
        "    os.makedirs(save_dir)\n",
        "filepath = os.path.join(save_dir, model_name)\n",
        "\n",
        "# Prepare callbacks for model saving and for learning rate adjustment.\n",
        "checkpoint = keras.callbacks.ModelCheckpoint(filepath=filepath,\n",
        "                                             monitor='val_accuracy',\n",
        "                                             verbose=1,\n",
        "                                             save_best_only=True)\n",
        "\n",
        "lr_scheduler = keras.callbacks.LearningRateScheduler(lr_schedule)\n",
        "progress_bar = keras.callbacks.ProgbarLogger()\n",
        "callbacks = [checkpoint, lr_scheduler, progress_bar]\n",
        "history = model.fit(train_set, y_train,\n",
        "                    batch_size=batch_size,\n",
        "                    epochs=epochs,\n",
        "                    validation_data=(val_set, y_val),\n",
        "                    shuffle=True,\n",
        "                    callbacks=callbacks)"
      ]
    },
    {
      "cell_type": "markdown",
      "metadata": {
        "id": "Os6-4TnJbejP"
      },
      "source": [
        "#### Evaluation"
      ]
    },
    {
      "cell_type": "code",
      "execution_count": null,
      "metadata": {
        "id": "PMN_OfOlZ5wl"
      },
      "outputs": [],
      "source": [
        "import json\n",
        "import matplotlib.pyplot as plt\n",
        "with open(\"particle_net_lite_history.json\", \"w\") as outfile:\n",
        "    outfile.write(str(history.history))"
      ]
    },
    {
      "cell_type": "code",
      "execution_count": null,
      "metadata": {
        "id": "oRXvO1LfdPM-",
        "outputId": "68f8b0ec-6101-4dbf-847e-ea50460bec13"
      },
      "outputs": [
        {
          "data": {
            "text/plain": [
              "test loss, test acc: [0.5085463461276892, 0.7416348924512864]"
            ]
          },
          "execution_count": 8,
          "metadata": {},
          "output_type": "execute_result"
        }
      ],
      "source": [
        "result = model.evaluate(test_dataset, y_test)\n",
        "print(\"test loss, test acc:\", result)"
      ]
    },
    {
      "cell_type": "markdown",
      "metadata": {
        "id": "HZgiR5-meObL"
      },
      "source": [
        "### Code Summary"
      ]
    },
    {
      "cell_type": "markdown",
      "metadata": {
        "id": "_sjPqTRfemQQ"
      },
      "source": [
        "We used the ParticleNet-Lite model for Jet Classification. The training loss decreases over epochs and also the training accuracy increases which means the model fits the data. However, the validation loss and accuracy becomes nearly constant after near 20th epoch which shows the overfitting. The training accuracy is near 81% which is comparable to the results of the paper Jet tagging via particle clouds."
      ]
    }
  ],
  "metadata": {
    "colab": {
      "collapsed_sections": [
        "L3ioG4namkht",
        "l5f1NOpdEAGx",
        "Mo2-POd7WwW6",
        "Os6-4TnJbejP",
        "HZgiR5-meObL"
      ],
      "provenance": []
    },
    "kernelspec": {
      "display_name": "Python 3",
      "name": "python3"
    },
    "language_info": {
      "name": "python"
    }
  },
  "nbformat": 4,
  "nbformat_minor": 0
}