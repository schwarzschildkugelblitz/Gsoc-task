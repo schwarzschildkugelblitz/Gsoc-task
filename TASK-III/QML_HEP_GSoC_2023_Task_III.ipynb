{
  "cells": [
    {
      "cell_type": "markdown",
      "source": [
        "#QML-HEP GSoC 2023 Task Solutions \n"
      ],
      "metadata": {
        "id": "FXPY6qIIrLqE"
      }
    },
    {
      "cell_type": "markdown",
      "metadata": {
        "id": "43qUxl5kc8qZ"
      },
      "source": [
        "##Installing Required Package "
      ]
    },
    {
      "cell_type": "code",
      "execution_count": null,
      "metadata": {
        "colab": {
          "base_uri": "https://localhost:8080/",
          "height": 1000
        },
        "id": "pwVJcezHyu9k",
        "outputId": "9abe9aac-92a1-4974-b5c3-a528b07c5d64"
      },
      "outputs": [
        {
          "output_type": "stream",
          "name": "stdout",
          "text": [
            "Looking in indexes: https://pypi.org/simple, https://us-python.pkg.dev/colab-wheels/public/simple/\n",
            "Collecting cirq\n",
            "  Downloading cirq-1.1.0-py3-none-any.whl (7.7 kB)\n",
            "Collecting cirq-aqt==1.1.0\n",
            "  Downloading cirq_aqt-1.1.0-py3-none-any.whl (27 kB)\n",
            "Collecting cirq-rigetti==1.1.0\n",
            "  Downloading cirq_rigetti-1.1.0-py3-none-any.whl (66 kB)\n",
            "\u001b[2K     \u001b[90m━━━━━━━━━━━━━━━━━━━━━━━━━━━━━━━━━━━━━━━━\u001b[0m \u001b[32m66.4/66.4 KB\u001b[0m \u001b[31m3.9 MB/s\u001b[0m eta \u001b[36m0:00:00\u001b[0m\n",
            "\u001b[?25hCollecting cirq-google==1.1.0\n",
            "  Downloading cirq_google-1.1.0-py3-none-any.whl (577 kB)\n",
            "\u001b[2K     \u001b[90m━━━━━━━━━━━━━━━━━━━━━━━━━━━━━━━━━━━━━━\u001b[0m \u001b[32m577.4/577.4 KB\u001b[0m \u001b[31m17.7 MB/s\u001b[0m eta \u001b[36m0:00:00\u001b[0m\n",
            "\u001b[?25hCollecting cirq-ionq==1.1.0\n",
            "  Downloading cirq_ionq-1.1.0-py3-none-any.whl (57 kB)\n",
            "\u001b[2K     \u001b[90m━━━━━━━━━━━━━━━━━━━━━━━━━━━━━━━━━━━━━━━━\u001b[0m \u001b[32m57.6/57.6 KB\u001b[0m \u001b[31m7.0 MB/s\u001b[0m eta \u001b[36m0:00:00\u001b[0m\n",
            "\u001b[?25hCollecting cirq-web==1.1.0\n",
            "  Downloading cirq_web-1.1.0-py3-none-any.whl (594 kB)\n",
            "\u001b[2K     \u001b[90m━━━━━━━━━━━━━━━━━━━━━━━━━━━━━━━━━━━━━━\u001b[0m \u001b[32m594.6/594.6 KB\u001b[0m \u001b[31m48.4 MB/s\u001b[0m eta \u001b[36m0:00:00\u001b[0m\n",
            "\u001b[?25hCollecting cirq-pasqal==1.1.0\n",
            "  Downloading cirq_pasqal-1.1.0-py3-none-any.whl (31 kB)\n",
            "Collecting cirq-core==1.1.0\n",
            "  Downloading cirq_core-1.1.0-py3-none-any.whl (1.8 MB)\n",
            "\u001b[2K     \u001b[90m━━━━━━━━━━━━━━━━━━━━━━━━━━━━━━━━━━━━━━━━\u001b[0m \u001b[32m1.8/1.8 MB\u001b[0m \u001b[31m66.9 MB/s\u001b[0m eta \u001b[36m0:00:00\u001b[0m\n",
            "\u001b[?25hRequirement already satisfied: requests~=2.18 in /usr/local/lib/python3.9/dist-packages (from cirq-aqt==1.1.0->cirq) (2.27.1)\n",
            "Requirement already satisfied: numpy<1.24,>=1.16 in /usr/local/lib/python3.9/dist-packages (from cirq-core==1.1.0->cirq) (1.22.4)\n",
            "Requirement already satisfied: sortedcontainers~=2.0 in /usr/local/lib/python3.9/dist-packages (from cirq-core==1.1.0->cirq) (2.4.0)\n",
            "Requirement already satisfied: matplotlib~=3.0 in /usr/local/lib/python3.9/dist-packages (from cirq-core==1.1.0->cirq) (3.7.1)\n",
            "Requirement already satisfied: tqdm in /usr/local/lib/python3.9/dist-packages (from cirq-core==1.1.0->cirq) (4.65.0)\n",
            "Collecting duet~=0.2.7\n",
            "  Downloading duet-0.2.7-py3-none-any.whl (28 kB)\n",
            "Requirement already satisfied: pandas in /usr/local/lib/python3.9/dist-packages (from cirq-core==1.1.0->cirq) (1.4.4)\n",
            "Requirement already satisfied: sympy in /usr/local/lib/python3.9/dist-packages (from cirq-core==1.1.0->cirq) (1.11.1)\n",
            "Collecting networkx~=2.4\n",
            "  Downloading networkx-2.8.8-py3-none-any.whl (2.0 MB)\n",
            "\u001b[2K     \u001b[90m━━━━━━━━━━━━━━━━━━━━━━━━━━━━━━━━━━━━━━━━\u001b[0m \u001b[32m2.0/2.0 MB\u001b[0m \u001b[31m66.8 MB/s\u001b[0m eta \u001b[36m0:00:00\u001b[0m\n",
            "\u001b[?25hRequirement already satisfied: typing-extensions in /usr/local/lib/python3.9/dist-packages (from cirq-core==1.1.0->cirq) (4.5.0)\n",
            "Requirement already satisfied: scipy in /usr/local/lib/python3.9/dist-packages (from cirq-core==1.1.0->cirq) (1.10.1)\n",
            "Requirement already satisfied: protobuf<4,>=3.15.0 in /usr/local/lib/python3.9/dist-packages (from cirq-google==1.1.0->cirq) (3.20.3)\n",
            "Collecting google-api-core[grpc]<2.0.0dev,>=1.14.0\n",
            "  Downloading google_api_core-1.34.0-py3-none-any.whl (120 kB)\n",
            "\u001b[2K     \u001b[90m━━━━━━━━━━━━━━━━━━━━━━━━━━━━━━━━━━━━━━\u001b[0m \u001b[32m120.2/120.2 KB\u001b[0m \u001b[31m16.8 MB/s\u001b[0m eta \u001b[36m0:00:00\u001b[0m\n",
            "\u001b[?25hRequirement already satisfied: proto-plus>=1.20.0 in /usr/local/lib/python3.9/dist-packages (from cirq-google==1.1.0->cirq) (1.22.2)\n",
            "Collecting pyquil>=3.2.0\n",
            "  Downloading pyquil-3.3.4-py3-none-any.whl (221 kB)\n",
            "\u001b[2K     \u001b[90m━━━━━━━━━━━━━━━━━━━━━━━━━━━━━━━━━━━━━━\u001b[0m \u001b[32m221.6/221.6 KB\u001b[0m \u001b[31m28.3 MB/s\u001b[0m eta \u001b[36m0:00:00\u001b[0m\n",
            "\u001b[?25hRequirement already satisfied: googleapis-common-protos<2.0dev,>=1.56.2 in /usr/local/lib/python3.9/dist-packages (from google-api-core[grpc]<2.0.0dev,>=1.14.0->cirq-google==1.1.0->cirq) (1.59.0)\n",
            "Requirement already satisfied: google-auth<3.0dev,>=1.25.0 in /usr/local/lib/python3.9/dist-packages (from google-api-core[grpc]<2.0.0dev,>=1.14.0->cirq-google==1.1.0->cirq) (2.17.0)\n",
            "Requirement already satisfied: grpcio-status<2.0dev,>=1.33.2 in /usr/local/lib/python3.9/dist-packages (from google-api-core[grpc]<2.0.0dev,>=1.14.0->cirq-google==1.1.0->cirq) (1.48.2)\n",
            "Requirement already satisfied: grpcio<2.0dev,>=1.33.2 in /usr/local/lib/python3.9/dist-packages (from google-api-core[grpc]<2.0.0dev,>=1.14.0->cirq-google==1.1.0->cirq) (1.53.0)\n",
            "Requirement already satisfied: pillow>=6.2.0 in /usr/local/lib/python3.9/dist-packages (from matplotlib~=3.0->cirq-core==1.1.0->cirq) (8.4.0)\n",
            "Requirement already satisfied: importlib-resources>=3.2.0 in /usr/local/lib/python3.9/dist-packages (from matplotlib~=3.0->cirq-core==1.1.0->cirq) (5.12.0)\n",
            "Requirement already satisfied: python-dateutil>=2.7 in /usr/local/lib/python3.9/dist-packages (from matplotlib~=3.0->cirq-core==1.1.0->cirq) (2.8.2)\n",
            "Requirement already satisfied: packaging>=20.0 in /usr/local/lib/python3.9/dist-packages (from matplotlib~=3.0->cirq-core==1.1.0->cirq) (23.0)\n",
            "Requirement already satisfied: contourpy>=1.0.1 in /usr/local/lib/python3.9/dist-packages (from matplotlib~=3.0->cirq-core==1.1.0->cirq) (1.0.7)\n",
            "Requirement already satisfied: pyparsing>=2.3.1 in /usr/local/lib/python3.9/dist-packages (from matplotlib~=3.0->cirq-core==1.1.0->cirq) (3.0.9)\n",
            "Requirement already satisfied: fonttools>=4.22.0 in /usr/local/lib/python3.9/dist-packages (from matplotlib~=3.0->cirq-core==1.1.0->cirq) (4.39.3)\n",
            "Requirement already satisfied: kiwisolver>=1.0.1 in /usr/local/lib/python3.9/dist-packages (from matplotlib~=3.0->cirq-core==1.1.0->cirq) (1.4.4)\n",
            "Requirement already satisfied: cycler>=0.10 in /usr/local/lib/python3.9/dist-packages (from matplotlib~=3.0->cirq-core==1.1.0->cirq) (0.11.0)\n",
            "Collecting lark<0.12.0,>=0.11.1\n",
            "  Downloading lark-0.11.3.tar.gz (229 kB)\n",
            "\u001b[2K     \u001b[90m━━━━━━━━━━━━━━━━━━━━━━━━━━━━━━━━━━━━━━\u001b[0m \u001b[32m229.9/229.9 KB\u001b[0m \u001b[31m26.0 MB/s\u001b[0m eta \u001b[36m0:00:00\u001b[0m\n",
            "\u001b[?25h  Preparing metadata (setup.py) ... \u001b[?25l\u001b[?25hdone\n",
            "Collecting types-python-dateutil<3.0.0,>=2.8.19\n",
            "  Downloading types_python_dateutil-2.8.19.11-py3-none-any.whl (9.2 kB)\n",
            "Collecting qcs-api-client<0.22.0,>=0.21.0\n",
            "  Downloading qcs_api_client-0.21.3-py3-none-any.whl (147 kB)\n",
            "\u001b[2K     \u001b[90m━━━━━━━━━━━━━━━━━━━━━━━━━━━━━━━━━━━━━━\u001b[0m \u001b[32m147.4/147.4 KB\u001b[0m \u001b[31m13.3 MB/s\u001b[0m eta \u001b[36m0:00:00\u001b[0m\n",
            "\u001b[?25hCollecting retry<0.10.0,>=0.9.2\n",
            "  Downloading retry-0.9.2-py2.py3-none-any.whl (8.0 kB)\n",
            "Collecting rpcq<4.0.0,>=3.10.0\n",
            "  Downloading rpcq-3.11.0.tar.gz (45 kB)\n",
            "\u001b[2K     \u001b[90m━━━━━━━━━━━━━━━━━━━━━━━━━━━━━━━━━━━━━━━━\u001b[0m \u001b[32m45.6/45.6 KB\u001b[0m \u001b[31m4.8 MB/s\u001b[0m eta \u001b[36m0:00:00\u001b[0m\n",
            "\u001b[?25h  Preparing metadata (setup.py) ... \u001b[?25l\u001b[?25hdone\n",
            "Collecting types-retry<0.10.0,>=0.9.9\n",
            "  Downloading types_retry-0.9.9.3-py3-none-any.whl (2.4 kB)\n",
            "Requirement already satisfied: idna<4,>=2.5 in /usr/local/lib/python3.9/dist-packages (from requests~=2.18->cirq-aqt==1.1.0->cirq) (3.4)\n",
            "Requirement already satisfied: urllib3<1.27,>=1.21.1 in /usr/local/lib/python3.9/dist-packages (from requests~=2.18->cirq-aqt==1.1.0->cirq) (1.26.15)\n",
            "Requirement already satisfied: charset-normalizer~=2.0.0 in /usr/local/lib/python3.9/dist-packages (from requests~=2.18->cirq-aqt==1.1.0->cirq) (2.0.12)\n",
            "Requirement already satisfied: certifi>=2017.4.17 in /usr/local/lib/python3.9/dist-packages (from requests~=2.18->cirq-aqt==1.1.0->cirq) (2022.12.7)\n",
            "Requirement already satisfied: pytz>=2020.1 in /usr/local/lib/python3.9/dist-packages (from pandas->cirq-core==1.1.0->cirq) (2022.7.1)\n",
            "Requirement already satisfied: mpmath>=0.19 in /usr/local/lib/python3.9/dist-packages (from sympy->cirq-core==1.1.0->cirq) (1.3.0)\n",
            "Requirement already satisfied: six>=1.9.0 in /usr/local/lib/python3.9/dist-packages (from google-auth<3.0dev,>=1.25.0->google-api-core[grpc]<2.0.0dev,>=1.14.0->cirq-google==1.1.0->cirq) (1.16.0)\n",
            "Requirement already satisfied: rsa<5,>=3.1.4 in /usr/local/lib/python3.9/dist-packages (from google-auth<3.0dev,>=1.25.0->google-api-core[grpc]<2.0.0dev,>=1.14.0->cirq-google==1.1.0->cirq) (4.9)\n",
            "Requirement already satisfied: cachetools<6.0,>=2.0.0 in /usr/local/lib/python3.9/dist-packages (from google-auth<3.0dev,>=1.25.0->google-api-core[grpc]<2.0.0dev,>=1.14.0->cirq-google==1.1.0->cirq) (5.3.0)\n",
            "Requirement already satisfied: pyasn1-modules>=0.2.1 in /usr/local/lib/python3.9/dist-packages (from google-auth<3.0dev,>=1.25.0->google-api-core[grpc]<2.0.0dev,>=1.14.0->cirq-google==1.1.0->cirq) (0.2.8)\n",
            "Requirement already satisfied: zipp>=3.1.0 in /usr/local/lib/python3.9/dist-packages (from importlib-resources>=3.2.0->matplotlib~=3.0->cirq-core==1.1.0->cirq) (3.15.0)\n",
            "Requirement already satisfied: toml<0.11.0,>=0.10.2 in /usr/local/lib/python3.9/dist-packages (from qcs-api-client<0.22.0,>=0.21.0->pyquil>=3.2.0->cirq-rigetti==1.1.0->cirq) (0.10.2)\n",
            "Collecting PyJWT<3.0.0,>=2.4.0\n",
            "  Downloading PyJWT-2.6.0-py3-none-any.whl (20 kB)\n",
            "Collecting attrs<22.0.0,>=21.3.0\n",
            "  Downloading attrs-21.4.0-py2.py3-none-any.whl (60 kB)\n",
            "\u001b[2K     \u001b[90m━━━━━━━━━━━━━━━━━━━━━━━━━━━━━━━━━━━━━━━━\u001b[0m \u001b[32m60.6/60.6 KB\u001b[0m \u001b[31m8.2 MB/s\u001b[0m eta \u001b[36m0:00:00\u001b[0m\n",
            "\u001b[?25hRequirement already satisfied: pydantic<2.0.0,>=1.7.2 in /usr/local/lib/python3.9/dist-packages (from qcs-api-client<0.22.0,>=0.21.0->pyquil>=3.2.0->cirq-rigetti==1.1.0->cirq) (1.10.7)\n",
            "Collecting rfc3339<7.0,>=6.2\n",
            "  Downloading rfc3339-6.2-py3-none-any.whl (5.5 kB)\n",
            "Collecting httpx<0.24.0,>=0.23.0\n",
            "  Downloading httpx-0.23.3-py3-none-any.whl (71 kB)\n",
            "\u001b[2K     \u001b[90m━━━━━━━━━━━━━━━━━━━━━━━━━━━━━━━━━━━━━━━━\u001b[0m \u001b[32m71.5/71.5 KB\u001b[0m \u001b[31m10.7 MB/s\u001b[0m eta \u001b[36m0:00:00\u001b[0m\n",
            "\u001b[?25hCollecting iso8601<2.0.0,>=1.0.2\n",
            "  Downloading iso8601-1.1.0-py3-none-any.whl (9.9 kB)\n",
            "Collecting retrying<2.0.0,>=1.3.3\n",
            "  Downloading retrying-1.3.4-py3-none-any.whl (11 kB)\n",
            "Collecting py<2.0.0,>=1.4.26\n",
            "  Downloading py-1.11.0-py2.py3-none-any.whl (98 kB)\n",
            "\u001b[2K     \u001b[90m━━━━━━━━━━━━━━━━━━━━━━━━━━━━━━━━━━━━━━━━\u001b[0m \u001b[32m98.7/98.7 KB\u001b[0m \u001b[31m11.0 MB/s\u001b[0m eta \u001b[36m0:00:00\u001b[0m\n",
            "\u001b[?25hRequirement already satisfied: decorator>=3.4.2 in /usr/local/lib/python3.9/dist-packages (from retry<0.10.0,>=0.9.2->pyquil>=3.2.0->cirq-rigetti==1.1.0->cirq) (4.4.2)\n",
            "Requirement already satisfied: msgpack<2.0,>=0.6 in /usr/local/lib/python3.9/dist-packages (from rpcq<4.0.0,>=3.10.0->pyquil>=3.2.0->cirq-rigetti==1.1.0->cirq) (1.0.5)\n",
            "Collecting python-rapidjson\n",
            "  Downloading python_rapidjson-1.10-cp39-cp39-manylinux_2_17_x86_64.manylinux2014_x86_64.whl (1.7 MB)\n",
            "\u001b[2K     \u001b[90m━━━━━━━━━━━━━━━━━━━━━━━━━━━━━━━━━━━━━━━━\u001b[0m \u001b[32m1.7/1.7 MB\u001b[0m \u001b[31m68.0 MB/s\u001b[0m eta \u001b[36m0:00:00\u001b[0m\n",
            "\u001b[?25hRequirement already satisfied: pyzmq>=17 in /usr/local/lib/python3.9/dist-packages (from rpcq<4.0.0,>=3.10.0->pyquil>=3.2.0->cirq-rigetti==1.1.0->cirq) (23.2.1)\n",
            "Collecting ruamel.yaml\n",
            "  Downloading ruamel.yaml-0.17.21-py3-none-any.whl (109 kB)\n",
            "\u001b[2K     \u001b[90m━━━━━━━━━━━━━━━━━━━━━━━━━━━━━━━━━━━━━━\u001b[0m \u001b[32m109.5/109.5 KB\u001b[0m \u001b[31m11.3 MB/s\u001b[0m eta \u001b[36m0:00:00\u001b[0m\n",
            "\u001b[?25hCollecting sniffio\n",
            "  Downloading sniffio-1.3.0-py3-none-any.whl (10 kB)\n",
            "Collecting rfc3986[idna2008]<2,>=1.3\n",
            "  Downloading rfc3986-1.5.0-py2.py3-none-any.whl (31 kB)\n",
            "Collecting httpcore<0.17.0,>=0.15.0\n",
            "  Downloading httpcore-0.16.3-py3-none-any.whl (69 kB)\n",
            "\u001b[2K     \u001b[90m━━━━━━━━━━━━━━━━━━━━━━━━━━━━━━━━━━━━━━━━\u001b[0m \u001b[32m69.6/69.6 KB\u001b[0m \u001b[31m8.8 MB/s\u001b[0m eta \u001b[36m0:00:00\u001b[0m\n",
            "\u001b[?25hRequirement already satisfied: pyasn1<0.5.0,>=0.4.6 in /usr/local/lib/python3.9/dist-packages (from pyasn1-modules>=0.2.1->google-auth<3.0dev,>=1.25.0->google-api-core[grpc]<2.0.0dev,>=1.14.0->cirq-google==1.1.0->cirq) (0.4.8)\n",
            "Collecting ruamel.yaml.clib>=0.2.6\n",
            "  Downloading ruamel.yaml.clib-0.2.7-cp39-cp39-manylinux_2_17_x86_64.manylinux2014_x86_64.manylinux_2_24_x86_64.whl (519 kB)\n",
            "\u001b[2K     \u001b[90m━━━━━━━━━━━━━━━━━━━━━━━━━━━━━━━━━━━━━━\u001b[0m \u001b[32m519.4/519.4 KB\u001b[0m \u001b[31m38.8 MB/s\u001b[0m eta \u001b[36m0:00:00\u001b[0m\n",
            "\u001b[?25hCollecting h11<0.15,>=0.13\n",
            "  Downloading h11-0.14.0-py3-none-any.whl (58 kB)\n",
            "\u001b[2K     \u001b[90m━━━━━━━━━━━━━━━━━━━━━━━━━━━━━━━━━━━━━━━━\u001b[0m \u001b[32m58.3/58.3 KB\u001b[0m \u001b[31m5.4 MB/s\u001b[0m eta \u001b[36m0:00:00\u001b[0m\n",
            "\u001b[?25hCollecting anyio<5.0,>=3.0\n",
            "  Downloading anyio-3.6.2-py3-none-any.whl (80 kB)\n",
            "\u001b[2K     \u001b[90m━━━━━━━━━━━━━━━━━━━━━━━━━━━━━━━━━━━━━━━━\u001b[0m \u001b[32m80.6/80.6 KB\u001b[0m \u001b[31m7.3 MB/s\u001b[0m eta \u001b[36m0:00:00\u001b[0m\n",
            "\u001b[?25hBuilding wheels for collected packages: lark, rpcq\n",
            "  Building wheel for lark (setup.py) ... \u001b[?25l\u001b[?25hdone\n",
            "  Created wheel for lark: filename=lark-0.11.3-py2.py3-none-any.whl size=99646 sha256=3fbdf5a3c50fb279ede331680bb10c13be520ad53fc8a3f5d4fa94c64566a4c3\n",
            "  Stored in directory: /root/.cache/pip/wheels/ec/6a/24/f8eeaf52fee56bfe54309621b59c41bb7f1df56f4bfbcdb0ce\n",
            "  Building wheel for rpcq (setup.py) ... \u001b[?25l\u001b[?25hdone\n",
            "  Created wheel for rpcq: filename=rpcq-3.11.0-py3-none-any.whl size=45985 sha256=809c584a2b129cd3ca635d99b95ecbbfe80158d7c9f044bfb38492ef836c5134\n",
            "  Stored in directory: /root/.cache/pip/wheels/a6/c4/42/34581dfe489802146924ad802b13aa7fe3820f9e8c15f67afc\n",
            "Successfully built lark rpcq\n",
            "Installing collected packages: types-retry, types-python-dateutil, rfc3986, rfc3339, lark, sniffio, ruamel.yaml.clib, retrying, python-rapidjson, PyJWT, py, networkx, iso8601, h11, duet, attrs, ruamel.yaml, retry, anyio, rpcq, httpcore, google-api-core, cirq-core, httpx, cirq-web, cirq-pasqal, cirq-ionq, cirq-aqt, qcs-api-client, cirq-google, pyquil, cirq-rigetti, cirq\n",
            "  Attempting uninstall: networkx\n",
            "    Found existing installation: networkx 3.0\n",
            "    Uninstalling networkx-3.0:\n",
            "      Successfully uninstalled networkx-3.0\n",
            "  Attempting uninstall: attrs\n",
            "    Found existing installation: attrs 22.2.0\n",
            "    Uninstalling attrs-22.2.0:\n",
            "      Successfully uninstalled attrs-22.2.0\n",
            "  Attempting uninstall: google-api-core\n",
            "    Found existing installation: google-api-core 2.11.0\n",
            "    Uninstalling google-api-core-2.11.0:\n",
            "      Successfully uninstalled google-api-core-2.11.0\n",
            "Successfully installed PyJWT-2.6.0 anyio-3.6.2 attrs-21.4.0 cirq-1.1.0 cirq-aqt-1.1.0 cirq-core-1.1.0 cirq-google-1.1.0 cirq-ionq-1.1.0 cirq-pasqal-1.1.0 cirq-rigetti-1.1.0 cirq-web-1.1.0 duet-0.2.7 google-api-core-1.34.0 h11-0.14.0 httpcore-0.16.3 httpx-0.23.3 iso8601-1.1.0 lark-0.11.3 networkx-2.8.8 py-1.11.0 pyquil-3.3.4 python-rapidjson-1.10 qcs-api-client-0.21.3 retry-0.9.2 retrying-1.3.4 rfc3339-6.2 rfc3986-1.5.0 rpcq-3.11.0 ruamel.yaml-0.17.21 ruamel.yaml.clib-0.2.7 sniffio-1.3.0 types-python-dateutil-2.8.19.11 types-retry-0.9.9.3\n"
          ]
        },
        {
          "output_type": "display_data",
          "data": {
            "application/vnd.colab-display-data+json": {
              "pip_warning": {
                "packages": [
                  "google"
                ]
              }
            }
          },
          "metadata": {}
        },
        {
          "output_type": "stream",
          "name": "stdout",
          "text": [
            "Looking in indexes: https://pypi.org/simple, https://us-python.pkg.dev/colab-wheels/public/simple/\n",
            "Collecting qiskit\n",
            "  Downloading qiskit-0.42.1.tar.gz (14 kB)\n",
            "  Preparing metadata (setup.py) ... \u001b[?25l\u001b[?25hdone\n",
            "Collecting qiskit-terra==0.23.3\n",
            "  Downloading qiskit_terra-0.23.3-cp39-cp39-manylinux_2_17_x86_64.manylinux2014_x86_64.whl (5.1 MB)\n",
            "\u001b[2K     \u001b[90m━━━━━━━━━━━━━━━━━━━━━━━━━━━━━━━━━━━━━━━━\u001b[0m \u001b[32m5.1/5.1 MB\u001b[0m \u001b[31m33.8 MB/s\u001b[0m eta \u001b[36m0:00:00\u001b[0m\n",
            "\u001b[?25hCollecting qiskit-aer==0.12.0\n",
            "  Downloading qiskit_aer-0.12.0-cp39-cp39-manylinux_2_17_x86_64.manylinux2014_x86_64.whl (12.8 MB)\n",
            "\u001b[2K     \u001b[90m━━━━━━━━━━━━━━━━━━━━━━━━━━━━━━━━━━━━━━━━\u001b[0m \u001b[32m12.8/12.8 MB\u001b[0m \u001b[31m46.0 MB/s\u001b[0m eta \u001b[36m0:00:00\u001b[0m\n",
            "\u001b[?25hCollecting qiskit-ibmq-provider==0.20.2\n",
            "  Downloading qiskit_ibmq_provider-0.20.2-py3-none-any.whl (241 kB)\n",
            "\u001b[2K     \u001b[90m━━━━━━━━━━━━━━━━━━━━━━━━━━━━━━━━━━━━━━\u001b[0m \u001b[32m241.5/241.5 KB\u001b[0m \u001b[31m23.2 MB/s\u001b[0m eta \u001b[36m0:00:00\u001b[0m\n",
            "\u001b[?25hRequirement already satisfied: scipy>=1.0 in /usr/local/lib/python3.9/dist-packages (from qiskit-aer==0.12.0->qiskit) (1.10.1)\n",
            "Requirement already satisfied: numpy>=1.16.3 in /usr/local/lib/python3.9/dist-packages (from qiskit-aer==0.12.0->qiskit) (1.22.4)\n",
            "Requirement already satisfied: python-dateutil>=2.8.0 in /usr/local/lib/python3.9/dist-packages (from qiskit-ibmq-provider==0.20.2->qiskit) (2.8.2)\n",
            "Requirement already satisfied: requests>=2.19 in /usr/local/lib/python3.9/dist-packages (from qiskit-ibmq-provider==0.20.2->qiskit) (2.27.1)\n",
            "Collecting websockets>=10.0\n",
            "  Downloading websockets-11.0-cp39-cp39-manylinux_2_5_x86_64.manylinux1_x86_64.manylinux_2_17_x86_64.manylinux2014_x86_64.whl (129 kB)\n",
            "\u001b[2K     \u001b[90m━━━━━━━━━━━━━━━━━━━━━━━━━━━━━━━━━━━━━━━\u001b[0m \u001b[32m129.5/129.5 KB\u001b[0m \u001b[31m6.6 MB/s\u001b[0m eta \u001b[36m0:00:00\u001b[0m\n",
            "\u001b[?25hRequirement already satisfied: urllib3>=1.21.1 in /usr/local/lib/python3.9/dist-packages (from qiskit-ibmq-provider==0.20.2->qiskit) (1.26.15)\n",
            "Collecting websocket-client>=1.5.1\n",
            "  Downloading websocket_client-1.5.1-py3-none-any.whl (55 kB)\n",
            "\u001b[2K     \u001b[90m━━━━━━━━━━━━━━━━━━━━━━━━━━━━━━━━━━━━━━━━\u001b[0m \u001b[32m55.9/55.9 KB\u001b[0m \u001b[31m6.4 MB/s\u001b[0m eta \u001b[36m0:00:00\u001b[0m\n",
            "\u001b[?25hCollecting requests-ntlm<=1.1.0\n",
            "  Downloading requests_ntlm-1.1.0-py2.py3-none-any.whl (5.7 kB)\n",
            "Collecting symengine>=0.9\n",
            "  Downloading symengine-0.10.0-cp39-cp39-manylinux_2_12_x86_64.manylinux2010_x86_64.whl (37.5 MB)\n",
            "\u001b[2K     \u001b[90m━━━━━━━━━━━━━━━━━━━━━━━━━━━━━━━━━━━━━━━━\u001b[0m \u001b[32m37.5/37.5 MB\u001b[0m \u001b[31m12.0 MB/s\u001b[0m eta \u001b[36m0:00:00\u001b[0m\n",
            "\u001b[?25hCollecting rustworkx>=0.12.0\n",
            "  Downloading rustworkx-0.12.1-cp39-cp39-manylinux_2_17_x86_64.manylinux2014_x86_64.whl (1.9 MB)\n",
            "\u001b[2K     \u001b[90m━━━━━━━━━━━━━━━━━━━━━━━━━━━━━━━━━━━━━━━━\u001b[0m \u001b[32m1.9/1.9 MB\u001b[0m \u001b[31m13.7 MB/s\u001b[0m eta \u001b[36m0:00:00\u001b[0m\n",
            "\u001b[?25hRequirement already satisfied: sympy>=1.3 in /usr/local/lib/python3.9/dist-packages (from qiskit-terra==0.23.3->qiskit) (1.11.1)\n",
            "Collecting dill>=0.3\n",
            "  Downloading dill-0.3.6-py3-none-any.whl (110 kB)\n",
            "\u001b[2K     \u001b[90m━━━━━━━━━━━━━━━━━━━━━━━━━━━━━━━━━━━━━━━\u001b[0m \u001b[32m110.5/110.5 KB\u001b[0m \u001b[31m7.7 MB/s\u001b[0m eta \u001b[36m0:00:00\u001b[0m\n",
            "\u001b[?25hCollecting stevedore>=3.0.0\n",
            "  Downloading stevedore-5.0.0-py3-none-any.whl (49 kB)\n",
            "\u001b[2K     \u001b[90m━━━━━━━━━━━━━━━━━━━━━━━━━━━━━━━━━━━━━━━━\u001b[0m \u001b[32m49.6/49.6 KB\u001b[0m \u001b[31m5.4 MB/s\u001b[0m eta \u001b[36m0:00:00\u001b[0m\n",
            "\u001b[?25hRequirement already satisfied: psutil>=5 in /usr/local/lib/python3.9/dist-packages (from qiskit-terra==0.23.3->qiskit) (5.9.4)\n",
            "Collecting ply>=3.10\n",
            "  Downloading ply-3.11-py2.py3-none-any.whl (49 kB)\n",
            "\u001b[2K     \u001b[90m━━━━━━━━━━━━━━━━━━━━━━━━━━━━━━━━━━━━━━━━\u001b[0m \u001b[32m49.6/49.6 KB\u001b[0m \u001b[31m2.1 MB/s\u001b[0m eta \u001b[36m0:00:00\u001b[0m\n",
            "\u001b[?25hRequirement already satisfied: six>=1.5 in /usr/local/lib/python3.9/dist-packages (from python-dateutil>=2.8.0->qiskit-ibmq-provider==0.20.2->qiskit) (1.16.0)\n",
            "Requirement already satisfied: charset-normalizer~=2.0.0 in /usr/local/lib/python3.9/dist-packages (from requests>=2.19->qiskit-ibmq-provider==0.20.2->qiskit) (2.0.12)\n",
            "Requirement already satisfied: idna<4,>=2.5 in /usr/local/lib/python3.9/dist-packages (from requests>=2.19->qiskit-ibmq-provider==0.20.2->qiskit) (3.4)\n",
            "Requirement already satisfied: certifi>=2017.4.17 in /usr/local/lib/python3.9/dist-packages (from requests>=2.19->qiskit-ibmq-provider==0.20.2->qiskit) (2022.12.7)\n",
            "Requirement already satisfied: cryptography>=1.3 in /usr/local/lib/python3.9/dist-packages (from requests-ntlm<=1.1.0->qiskit-ibmq-provider==0.20.2->qiskit) (40.0.1)\n",
            "Collecting ntlm-auth>=1.0.2\n",
            "  Downloading ntlm_auth-1.5.0-py2.py3-none-any.whl (29 kB)\n",
            "Collecting pbr!=2.1.0,>=2.0.0\n",
            "  Downloading pbr-5.11.1-py2.py3-none-any.whl (112 kB)\n",
            "\u001b[2K     \u001b[90m━━━━━━━━━━━━━━━━━━━━━━━━━━━━━━━━━━━━━━\u001b[0m \u001b[32m112.7/112.7 KB\u001b[0m \u001b[31m14.1 MB/s\u001b[0m eta \u001b[36m0:00:00\u001b[0m\n",
            "\u001b[?25hRequirement already satisfied: mpmath>=0.19 in /usr/local/lib/python3.9/dist-packages (from sympy>=1.3->qiskit-terra==0.23.3->qiskit) (1.3.0)\n",
            "Requirement already satisfied: cffi>=1.12 in /usr/local/lib/python3.9/dist-packages (from cryptography>=1.3->requests-ntlm<=1.1.0->qiskit-ibmq-provider==0.20.2->qiskit) (1.15.1)\n",
            "Requirement already satisfied: pycparser in /usr/local/lib/python3.9/dist-packages (from cffi>=1.12->cryptography>=1.3->requests-ntlm<=1.1.0->qiskit-ibmq-provider==0.20.2->qiskit) (2.21)\n",
            "Building wheels for collected packages: qiskit\n",
            "  Building wheel for qiskit (setup.py) ... \u001b[?25l\u001b[?25hdone\n",
            "  Created wheel for qiskit: filename=qiskit-0.42.1-py3-none-any.whl size=12938 sha256=727022bb6132caec7f0462c7106119f07cf8d8628e4794f8476eae0d7ada4b20\n",
            "  Stored in directory: /root/.cache/pip/wheels/40/64/74/29c046bda04fd60f3f6b2e244fa85b70f219e363fc3373f541\n",
            "Successfully built qiskit\n",
            "Installing collected packages: ply, websockets, websocket-client, symengine, rustworkx, pbr, ntlm-auth, dill, stevedore, requests-ntlm, qiskit-terra, qiskit-ibmq-provider, qiskit-aer, qiskit\n",
            "Successfully installed dill-0.3.6 ntlm-auth-1.5.0 pbr-5.11.1 ply-3.11 qiskit-0.42.1 qiskit-aer-0.12.0 qiskit-ibmq-provider-0.20.2 qiskit-terra-0.23.3 requests-ntlm-1.1.0 rustworkx-0.12.1 stevedore-5.0.0 symengine-0.10.0 websocket-client-1.5.1 websockets-11.0\n",
            "Looking in indexes: https://pypi.org/simple, https://us-python.pkg.dev/colab-wheels/public/simple/\n",
            "Collecting pylatexenc\n",
            "  Downloading pylatexenc-2.10.tar.gz (162 kB)\n",
            "\u001b[2K     \u001b[90m━━━━━━━━━━━━━━━━━━━━━━━━━━━━━━━━━━━━━━━\u001b[0m \u001b[32m162.6/162.6 KB\u001b[0m \u001b[31m5.0 MB/s\u001b[0m eta \u001b[36m0:00:00\u001b[0m\n",
            "\u001b[?25h  Preparing metadata (setup.py) ... \u001b[?25l\u001b[?25hdone\n",
            "Building wheels for collected packages: pylatexenc\n",
            "  Building wheel for pylatexenc (setup.py) ... \u001b[?25l\u001b[?25hdone\n",
            "  Created wheel for pylatexenc: filename=pylatexenc-2.10-py3-none-any.whl size=136831 sha256=00a6990882fd4dfb2054e571f5bf5d8203f74229e3a0b4068c07f6a2893a8a7c\n",
            "  Stored in directory: /root/.cache/pip/wheels/a3/68/66/2f15abd0673d83c02f354115feedeb89c3daed2ac319b11090\n",
            "Successfully built pylatexenc\n",
            "Installing collected packages: pylatexenc\n",
            "Successfully installed pylatexenc-2.10\n",
            "Looking in indexes: https://pypi.org/simple, https://us-python.pkg.dev/colab-wheels/public/simple/\n",
            "Collecting pennylane\n",
            "  Downloading PennyLane-0.29.1-py3-none-any.whl (1.3 MB)\n",
            "\u001b[2K     \u001b[90m━━━━━━━━━━━━━━━━━━━━━━━━━━━━━━━━━━━━━━━━\u001b[0m \u001b[32m1.3/1.3 MB\u001b[0m \u001b[31m17.2 MB/s\u001b[0m eta \u001b[36m0:00:00\u001b[0m\n",
            "\u001b[?25hRequirement already satisfied: networkx in /usr/local/lib/python3.9/dist-packages (from pennylane) (2.8.8)\n",
            "Collecting semantic-version>=2.7\n",
            "  Downloading semantic_version-2.10.0-py2.py3-none-any.whl (15 kB)\n",
            "Requirement already satisfied: appdirs in /usr/local/lib/python3.9/dist-packages (from pennylane) (1.4.4)\n",
            "Requirement already satisfied: toml in /usr/local/lib/python3.9/dist-packages (from pennylane) (0.10.2)\n",
            "Collecting autoray>=0.3.1\n",
            "  Downloading autoray-0.6.3-py3-none-any.whl (48 kB)\n",
            "\u001b[2K     \u001b[90m━━━━━━━━━━━━━━━━━━━━━━━━━━━━━━━━━━━━━━━━\u001b[0m \u001b[32m48.3/48.3 KB\u001b[0m \u001b[31m6.3 MB/s\u001b[0m eta \u001b[36m0:00:00\u001b[0m\n",
            "\u001b[?25hCollecting pennylane-lightning>=0.28\n",
            "  Downloading PennyLane_Lightning-0.29.0-cp39-cp39-manylinux_2_17_x86_64.manylinux2014_x86_64.whl (16.5 MB)\n",
            "\u001b[2K     \u001b[90m━━━━━━━━━━━━━━━━━━━━━━━━━━━━━━━━━━━━━━━━\u001b[0m \u001b[32m16.5/16.5 MB\u001b[0m \u001b[31m60.2 MB/s\u001b[0m eta \u001b[36m0:00:00\u001b[0m\n",
            "\u001b[?25hCollecting retworkx\n",
            "  Downloading retworkx-0.12.1-py3-none-any.whl (10 kB)\n",
            "Requirement already satisfied: autograd in /usr/local/lib/python3.9/dist-packages (from pennylane) (1.5)\n",
            "Requirement already satisfied: cachetools in /usr/local/lib/python3.9/dist-packages (from pennylane) (5.3.0)\n",
            "Requirement already satisfied: scipy in /usr/local/lib/python3.9/dist-packages (from pennylane) (1.10.1)\n",
            "Requirement already satisfied: numpy<1.24 in /usr/local/lib/python3.9/dist-packages (from pennylane) (1.22.4)\n",
            "Requirement already satisfied: requests in /usr/local/lib/python3.9/dist-packages (from pennylane) (2.27.1)\n",
            "Requirement already satisfied: future>=0.15.2 in /usr/local/lib/python3.9/dist-packages (from autograd->pennylane) (0.18.3)\n",
            "Requirement already satisfied: charset-normalizer~=2.0.0 in /usr/local/lib/python3.9/dist-packages (from requests->pennylane) (2.0.12)\n",
            "Requirement already satisfied: urllib3<1.27,>=1.21.1 in /usr/local/lib/python3.9/dist-packages (from requests->pennylane) (1.26.15)\n",
            "Requirement already satisfied: idna<4,>=2.5 in /usr/local/lib/python3.9/dist-packages (from requests->pennylane) (3.4)\n",
            "Requirement already satisfied: certifi>=2017.4.17 in /usr/local/lib/python3.9/dist-packages (from requests->pennylane) (2022.12.7)\n",
            "Requirement already satisfied: rustworkx==0.12.1 in /usr/local/lib/python3.9/dist-packages (from retworkx->pennylane) (0.12.1)\n",
            "Installing collected packages: semantic-version, autoray, retworkx, pennylane-lightning, pennylane\n",
            "Successfully installed autoray-0.6.3 pennylane-0.29.1 pennylane-lightning-0.29.0 retworkx-0.12.1 semantic-version-2.10.0\n",
            "Looking in indexes: https://pypi.org/simple, https://us-python.pkg.dev/colab-wheels/public/simple/\n",
            "Collecting tensorflow-addons\n",
            "  Downloading tensorflow_addons-0.19.0-cp39-cp39-manylinux_2_17_x86_64.manylinux2014_x86_64.whl (1.1 MB)\n",
            "\u001b[2K     \u001b[90m━━━━━━━━━━━━━━━━━━━━━━━━━━━━━━━━━━━━━━━━\u001b[0m \u001b[32m1.1/1.1 MB\u001b[0m \u001b[31m14.8 MB/s\u001b[0m eta \u001b[36m0:00:00\u001b[0m\n",
            "\u001b[?25hCollecting typeguard>=2.7\n",
            "  Downloading typeguard-3.0.2-py3-none-any.whl (30 kB)\n",
            "Requirement already satisfied: packaging in /usr/local/lib/python3.9/dist-packages (from tensorflow-addons) (23.0)\n",
            "Requirement already satisfied: typing-extensions>=4.4.0 in /usr/local/lib/python3.9/dist-packages (from typeguard>=2.7->tensorflow-addons) (4.5.0)\n",
            "Requirement already satisfied: importlib-metadata>=3.6 in /usr/local/lib/python3.9/dist-packages (from typeguard>=2.7->tensorflow-addons) (6.1.0)\n",
            "Requirement already satisfied: zipp>=0.5 in /usr/local/lib/python3.9/dist-packages (from importlib-metadata>=3.6->typeguard>=2.7->tensorflow-addons) (3.15.0)\n",
            "Installing collected packages: typeguard, tensorflow-addons\n",
            "Successfully installed tensorflow-addons-0.19.0 typeguard-3.0.2\n"
          ]
        }
      ],
      "source": [
        "!pip install cirq\n",
        "!pip install qiskit\n",
        "!pip install pylatexenc\n",
        "!pip install pennylane\n",
        "!pip install -U tensorflow-addons\n",
        "# # !pip install -q tensorflow==2.3.1\n",
        "# !pip install -q tensorflow-quantum"
      ]
    },
    {
      "cell_type": "markdown",
      "metadata": {
        "id": "WmdhhyO_cWlO"
      },
      "source": [
        "## TASK III"
      ]
    },
    {
      "cell_type": "markdown",
      "source": [
        "Please comment on quantum computing or quantum machine learning. You can also comment on one quantum algorithm or one quantum software you are familiar with. You can also suggest methods you think are good and you would like to work on. Please use your own understanding. Comments copied from the internet will not be considered.\n"
      ],
      "metadata": {
        "id": "Vhh6kMjgT62q"
      }
    },
    {
      "cell_type": "markdown",
      "metadata": {
        "id": "dNsCl2MjcoX2"
      },
      "source": [
        "###General Views on quantum computing and quantum machine learning\n",
        "\n",
        "As student of computer science with deep interest in physics i find the field of qunatum computing quite fascinating. While there are thousands of article detailing the potential of quantum computing and by extension quantum machine learning to revolutionize the way we solve complex problems and the impact will have in our day to day life. What i found most interesting aspects of quantum computing is its ability to perform certain calculations much faster than classical computers. This is due to the fact that quantum computers use qubits, which can be in a state of superposition, allowing for many calculations to be performed simultaneously. Additionally, quantum computers can also use entanglement, which allows for the manipulation of multiple qubits at the same time. These unique features make quantum computers well-suited for solving problems that would take classical computers exponentially longer.\n"
      ]
    },
    {
      "cell_type": "markdown",
      "source": [
        "###Quantum Algorithms \n",
        "\n",
        "One of the classical quantum algorithms that I find particularly fascinating is the Deutsch-Jozsa algorithm. This algorithm solves the problem of determining whether a function is constant or balanced, which is a problem that is difficult to solve using classical computing. The algorithm uses a quantum computer to evaluate the function in a single step, which is much faster than the classical approach of evaluating the function multiple times. I find this algorithm to be a great example of the power of quantum computing and how it can be used to solve problems that are not feasible with classical computing.\n",
        "\n",
        "Another important quantum algorithm is Shor's algorithm, which is used for factoring large numbers and solving the discrete logarithm problem. Shor's algorithm is one of the most well-known quantum algorithms and has significant implications for cryptography because many classical cryptographic protocols rely on the difficulty of factoring large numbers.Shor's algorithm uses the principles of quantum superposition and entanglement to find the factors of a large composite number much faster than any known classical algorithm. This algorithm has the potential to break RSA encryption\n",
        "\n",
        "Apart form the classical Quantum Algorithms. Error correcting code is Something that captivates my thoughts particularly surface codes. Introduced by Alexei Kitaev in 1997, and have become a popular choice for quantum error correction due to their relatively simple structure and high error threshold.\n",
        "\n",
        "The basic idea of surface codes is to encode qubits in a two-dimensional array of physical qubits (usually implemented using superconducting qubits or ion traps), such that each physical qubit is connected to its neighboring qubits. The encoding scheme ensures that any errors that occur can be detected and corrected by measuring the state of certain groups of qubits in the array.\n",
        "\n",
        "One of the challenges however, is the implementing surface codes is the need for a large number of physical qubits. To achieve a high level of error correction, the array of physical qubits must be quite large (typically on the order of thousands or tens of thousands of qubits). This makes it difficult to implement surface codes with current quantum technologies, but there has been significant progress in recent years towards building larger and more reliable quantum computers that can support error-correction using surface codes."
      ],
      "metadata": {
        "id": "OmlSj_Yik4T4"
      }
    },
    {
      "cell_type": "markdown",
      "source": [
        "###Quantum software\n",
        "\n",
        "From my personal experience, working with quantum software . I've had the opportunity to explore various quantum software platforms, each with their own unique features and capabilities.\n",
        "\n",
        "The IBM Quantum Experience is a powerful platform that provides access to cloud-based quantum hardware and simulators. I've found the Qiskit programming language to be quite intuitive, allowing me to easily define quantum circuits and run simulations of quantum algorithms. The visual tools provided by the platform also make it easy to analyze the results of my simulations, helping me gain a deeper understanding of the behavior of quantum systems.\n",
        "\n",
        "The Microsoft Quantum Development Kit is another platform that I've had the chance to work with. While I initially found the Q# programming language to be a bit challenging, it has some powerful features that make it well-suited for certain types of quantum programming tasks, such as quantum error correction. The suite of tools included with the platform, such as the quantum simulator and the quantum chemistry library, also make it a valuable tool for researchers and developers working in quantum computing."
      ],
      "metadata": {
        "id": "pHfMhwdgk8hy"
      }
    },
    {
      "cell_type": "markdown",
      "source": [
        "Looking to the future, I believe that quantum computing and quantum machine learning will have a significant impact on many areas of science and industry. For example, quantum computing can be used to simulate the behavior of complex systems, such as molecules, which could have important applications in drug development and materials science. Additionally, quantum machine learning can be used to improve data analysis and pattern recognition, which could have important applications in fields such as finance and cybersecurity.\n",
        "\n",
        "In terms of future research, I am interested in exploring new quantum algorithms and developing new quantum software tools. Specifically, I am interested in developing algorithms for solving optimization problems, which are important in fields such as logistics and transportation. I am also interested in exploring the potential applications of quantum machine learning in areas such as natural language processing and image recognition."
      ],
      "metadata": {
        "id": "PhtlpWSDlBYd"
      }
    },
    {
      "cell_type": "markdown",
      "metadata": {
        "id": "_hx8fEqrd53O"
      },
      "source": [
        "### Deutsch-Jozsa algorithm \n",
        "\n",
        "The Deutsch-Jozsa algorithm is a quantum algorithm that determines whether a given function is constant or balanced. The algorithm uses a quantum computer to evaluate the function in a single step, which is much faster than the classical approach of evaluating the function multiple times.\n",
        "\n",
        "The algorithm works by using a quantum computer to perform a series of operations on a set of qubits. The algorithm requires one input qubit and n ancillary qubits, where n is the number of input bits to the function. The input qubit is initially set to |1⟩ and the ancillary qubits are initially set to |0⟩. The algorithm then applies a Hadamard gate to each qubit, putting them all in a superposition state. The resulting state is:\n",
        "\n",
        "> (|0⟩ + |1⟩) ⊗ (|0⟩ + |1⟩) ⊗ ... ⊗ (|0⟩ + |1⟩)\n",
        "\n",
        "\n",
        "\n",
        "\n",
        "The algorithm then applies a function oracle to the input qubit and the ancillary qubits. The oracle flips the phase of the state if the function is balanced and leaves the state unchanged if the function is constant. The resulting state is:\n",
        "\n",
        "> (|0⟩ + (-1)^f(0)|1⟩) ⊗ (|0⟩ + (-1)^f(1)|1⟩) ⊗ ... ⊗ (|0⟩ + (-1)^f(2^n-1)|1⟩)\n",
        "\n",
        "where f(x) is the value of the function for input x.\n",
        "\n",
        "The algorithm then applies another set of Hadamard gates to each qubit, which puts the input qubit in the state:\n",
        "\n",
        "> (|0⟩ - |1⟩) / √2\n",
        "\n",
        "If the function is constant, then all of the ancillary qubits will be in the same state after the first set of Hadamard gates, and so the second set of Hadamard gates will leave the input qubit in the state |1⟩. If the function is balanced, then the ancillary qubits will be in different states after the first set of Hadamard gates, and so the second set of Hadamard gates will leave the input qubit in a state other than |1⟩.\n",
        "\n",
        "###The implementation of the Deutsch-Jozsa algorithm involves several steps:\n",
        "\n",
        "1. **Prepare the input state:** The input to the algorithm is an n-qubit register, initialized to the state |0⟩^(n)|1⟩. The first n qubits are in the state |0⟩, and the last qubit is in the state |1⟩.\n",
        "\n",
        "2. **Apply the Hadamard gate:** Apply the Hadamard gate to each qubit in the input register. This creates a superposition of all possible input states.\n",
        "\n",
        "3. **Apply the oracle:** Apply the oracle function to the input register. The oracle function is a black box that takes as input the n-qubit register and returns either 0 or 1. If the function is constant, it returns the same value for all inputs. If the function is balanced, it returns 0 for half of the inputs and 1 for the other half.\n",
        "\n",
        "4. **Apply the Hadamard gate again:** Apply the Hadamard gate to each qubit in the input register. This transforms the superposition of input states into a superposition of output states.\n",
        "\n",
        "5. **Measure the output:** Measure the output qubits to obtain the result of the algorithm. If the function is constant, the output will be |0⟩^(n). If the function is balanced, the output will be some other state."
      ]
    },
    {
      "cell_type": "code",
      "source": [
        "import numpy as np\n",
        "from qiskit import execute, Aer\n",
        "from qiskit.providers.ibmq import least_busy\n",
        "from qiskit import QuantumCircuit, assemble, transpile\n",
        "from qiskit.visualization import plot_histogram,plot_bloch_multivector"
      ],
      "metadata": {
        "id": "piq-UJxvvyoq"
      },
      "execution_count": null,
      "outputs": []
    },
    {
      "cell_type": "code",
      "source": [
        "def deutsch_jozsa_oracle(case: str, num_input_qubits: int) -> QuantumCircuit:\n",
        "    \"\"\"\n",
        "    Creates a Deutsch-Jozsa oracle circuit for a given case.\n",
        "\n",
        "    Args:\n",
        "        case (str): The case for the oracle. Can be \"balanced\" or \"constant\".\n",
        "        num_input_qubits (int): The number of input qubits to the oracle.\n",
        "\n",
        "    Returns:\n",
        "        A quantum circuit for the Deutsch-Jozsa oracle corresponding to the given case.\n",
        "    \"\"\"\n",
        "    # Create a quantum circuit with num_input_qubits + 1 qubits, one for the output of the oracle\n",
        "    oracle_circuit = QuantumCircuit(num_input_qubits + 1)\n",
        "\n",
        "    # Case in which the oracle is balanced\n",
        "    if case == \"balanced\":\n",
        "        # Choose a random number to determine which CNOTs to wrap in X-gates\n",
        "        random_int = np.random.randint(1, 2 ** num_input_qubits)\n",
        "        # Convert random_int to a binary string of length num_input_qubits\n",
        "        random_str = format(random_int, '0' + str(num_input_qubits) + 'b')\n",
        "        # Apply X-gates to the qubits corresponding to 1s in random_str\n",
        "        for qubit in range(len(random_str)):\n",
        "            if random_str[qubit] == '1':\n",
        "                oracle_circuit.x(qubit)\n",
        "        # Apply CNOT gates from each input qubit to the output qubit\n",
        "        for qubit in range(num_input_qubits):\n",
        "            oracle_circuit.cx(qubit, num_input_qubits)\n",
        "        # Apply X-gates again to the qubits corresponding to 1s in random_str\n",
        "        for qubit in range(len(random_str)):\n",
        "            if random_str[qubit] == '1':\n",
        "                oracle_circuit.x(qubit)\n",
        "\n",
        "    # Case in which the oracle is constant\n",
        "    if case == \"constant\":\n",
        "        # Choose a random bit to be the fixed output of the oracle\n",
        "        output = np.random.randint(2)\n",
        "        # If the output is 1, apply an X-gate to the output qubit\n",
        "        if output == 1:\n",
        "            oracle_circuit.x(num_input_qubits)\n",
        "\n",
        "    # Return the oracle circuit\n",
        "    return oracle_circuit\n"
      ],
      "metadata": {
        "id": "Hw6r3NpDvi6c"
      },
      "execution_count": null,
      "outputs": []
    },
    {
      "cell_type": "code",
      "source": [
        "from qiskit import QuantumCircuit\n",
        "\n",
        "def deutsch_jozsa_algorithm(oracle_circuit: QuantumCircuit, input_size: int) -> QuantumCircuit:\n",
        "    \"\"\"Runs the Deutsch-Jozsa algorithm on the given oracle circuit.\n",
        "\n",
        "    Args:\n",
        "        oracle_circuit (QuantumCircuit): The oracle circuit to test.\n",
        "        input_size (int): The number of input qubits to the oracle circuit.\n",
        "\n",
        "    Returns:\n",
        "        QuantumCircuit: The quantum circuit that implements the Deutsch-Jozsa algorithm.\n",
        "    \"\"\"\n",
        "\n",
        "    # Create the quantum circuit with n+1 qubits for input and output\n",
        "    dj_circuit = QuantumCircuit(input_size + 1, input_size)\n",
        "\n",
        "    # Set up the output qubit to |1>\n",
        "    dj_circuit.x(input_size)\n",
        "    dj_circuit.h(input_size)\n",
        "\n",
        "    # Set up the input register to a superposition of all possible states\n",
        "    for qubit in range(input_size):\n",
        "        dj_circuit.h(qubit)\n",
        "\n",
        "    # Append the oracle gate to our circuit\n",
        "    dj_circuit.append(oracle_circuit, range(input_size + 1))\n",
        "\n",
        "    # Perform the H-gates again on the input register\n",
        "    for qubit in range(input_size):\n",
        "        dj_circuit.h(qubit)\n",
        "\n",
        "    # Measure the input qubits\n",
        "    for i in range(input_size):\n",
        "        dj_circuit.measure(i, i)\n",
        "\n",
        "    return dj_circuit"
      ],
      "metadata": {
        "id": "eTZYpY0-vnSq"
      },
      "execution_count": null,
      "outputs": []
    },
    {
      "cell_type": "code",
      "source": [
        "input_size = 4\n",
        "oracle_gate = deutsch_jozsa_oracle('balanced', input_size)\n",
        "oracle_gate.draw()"
      ],
      "metadata": {
        "colab": {
          "base_uri": "https://localhost:8080/",
          "height": 186
        },
        "id": "bqlcTxHcHO5w",
        "outputId": "e6699b30-6f2a-47b9-ce2d-c071ea2f1efd"
      },
      "execution_count": null,
      "outputs": [
        {
          "output_type": "execute_result",
          "data": {
            "text/plain": [
              "     ┌───┐     ┌───┐               \n",
              "q_0: ┤ X ├──■──┤ X ├───────────────\n",
              "     ├───┤  │  └───┘┌───┐          \n",
              "q_1: ┤ X ├──┼────■──┤ X ├──────────\n",
              "     ├───┤  │    │  └───┘┌───┐     \n",
              "q_2: ┤ X ├──┼────┼────■──┤ X ├─────\n",
              "     ├───┤  │    │    │  └───┘┌───┐\n",
              "q_3: ┤ X ├──┼────┼────┼────■──┤ X ├\n",
              "     └───┘┌─┴─┐┌─┴─┐┌─┴─┐┌─┴─┐└───┘\n",
              "q_4: ─────┤ X ├┤ X ├┤ X ├┤ X ├─────\n",
              "          └───┘└───┘└───┘└───┘     "
            ],
            "text/html": [
              "<pre style=\"word-wrap: normal;white-space: pre;background: #fff0;line-height: 1.1;font-family: &quot;Courier New&quot;,Courier,monospace\">     ┌───┐     ┌───┐               \n",
              "q_0: ┤ X ├──■──┤ X ├───────────────\n",
              "     ├───┤  │  └───┘┌───┐          \n",
              "q_1: ┤ X ├──┼────■──┤ X ├──────────\n",
              "     ├───┤  │    │  └───┘┌───┐     \n",
              "q_2: ┤ X ├──┼────┼────■──┤ X ├─────\n",
              "     ├───┤  │    │    │  └───┘┌───┐\n",
              "q_3: ┤ X ├──┼────┼────┼────■──┤ X ├\n",
              "     └───┘┌─┴─┐┌─┴─┐┌─┴─┐┌─┴─┐└───┘\n",
              "q_4: ─────┤ X ├┤ X ├┤ X ├┤ X ├─────\n",
              "          └───┘└───┘└───┘└───┘     </pre>"
            ]
          },
          "metadata": {},
          "execution_count": 29
        }
      ]
    },
    {
      "cell_type": "code",
      "source": [
        "import matplotlib.pyplot as plt\n",
        "oracle_gate.draw(output='mpl')"
      ],
      "metadata": {
        "colab": {
          "base_uri": "https://localhost:8080/",
          "height": 384
        },
        "id": "moRtB2HBHYru",
        "outputId": "c2a9d26a-d202-4cf1-cd8b-d467a142a96e"
      },
      "execution_count": null,
      "outputs": [
        {
          "output_type": "execute_result",
          "data": {
            "text/plain": [
              "<Figure size 621.941x451.5 with 1 Axes>"
            ],
            "image/png": "[encoded data removed]"
          },
          "metadata": {},
          "execution_count": 30
        }
      ]
    },
    {
      "cell_type": "code",
      "source": [
        "dj_circuit = deutsch_jozsa_algorithm(oracle_gate,input_size)\n",
        "dj_circuit.draw()"
      ],
      "metadata": {
        "id": "5cmGJPnivoEG",
        "colab": {
          "base_uri": "https://localhost:8080/",
          "height": 217
        },
        "outputId": "e6e8298a-8aad-425c-8824-8e65238fe534"
      },
      "execution_count": null,
      "outputs": [
        {
          "output_type": "execute_result",
          "data": {
            "text/plain": [
              "     ┌───┐     ┌──────────────┐┌───┐┌─┐         \n",
              "q_0: ┤ H ├─────┤0             ├┤ H ├┤M├─────────\n",
              "     ├───┤     │              │├───┤└╥┘┌─┐      \n",
              "q_1: ┤ H ├─────┤1             ├┤ H ├─╫─┤M├──────\n",
              "     ├───┤     │              │├───┤ ║ └╥┘┌─┐   \n",
              "q_2: ┤ H ├─────┤2 circuit-107 ├┤ H ├─╫──╫─┤M├───\n",
              "     ├───┤     │              │├───┤ ║  ║ └╥┘┌─┐\n",
              "q_3: ┤ H ├─────┤3             ├┤ H ├─╫──╫──╫─┤M├\n",
              "     ├───┤┌───┐│              │└───┘ ║  ║  ║ └╥┘\n",
              "q_4: ┤ X ├┤ H ├┤4             ├──────╫──╫──╫──╫─\n",
              "     └───┘└───┘└──────────────┘      ║  ║  ║  ║ \n",
              "c: 4/════════════════════════════════╩══╩══╩══╩═\n",
              "                                     0  1  2  3 "
            ],
            "text/html": [
              "<pre style=\"word-wrap: normal;white-space: pre;background: #fff0;line-height: 1.1;font-family: &quot;Courier New&quot;,Courier,monospace\">     ┌───┐     ┌──────────────┐┌───┐┌─┐         \n",
              "q_0: ┤ H ├─────┤0             ├┤ H ├┤M├─────────\n",
              "     ├───┤     │              │├───┤└╥┘┌─┐      \n",
              "q_1: ┤ H ├─────┤1             ├┤ H ├─╫─┤M├──────\n",
              "     ├───┤     │              │├───┤ ║ └╥┘┌─┐   \n",
              "q_2: ┤ H ├─────┤2 circuit-107 ├┤ H ├─╫──╫─┤M├───\n",
              "     ├───┤     │              │├───┤ ║  ║ └╥┘┌─┐\n",
              "q_3: ┤ H ├─────┤3             ├┤ H ├─╫──╫──╫─┤M├\n",
              "     ├───┤┌───┐│              │└───┘ ║  ║  ║ └╥┘\n",
              "q_4: ┤ X ├┤ H ├┤4             ├──────╫──╫──╫──╫─\n",
              "     └───┘└───┘└──────────────┘      ║  ║  ║  ║ \n",
              "c: 4/════════════════════════════════╩══╩══╩══╩═\n",
              "                                     0  1  2  3 </pre>"
            ]
          },
          "metadata": {},
          "execution_count": 31
        }
      ]
    },
    {
      "cell_type": "code",
      "source": [
        "dj_circuit.draw(output='mpl')"
      ],
      "metadata": {
        "colab": {
          "base_uri": "https://localhost:8080/",
          "height": 449
        },
        "id": "5bVC3LD2HBvO",
        "outputId": "cf183708-c20d-4188-b61a-b7642a222474"
      },
      "execution_count": null,
      "outputs": [
        {
          "output_type": "execute_result",
          "data": {
            "text/plain": [
              "<Figure size 872.774x535.111 with 1 Axes>"
            ],
            "image/png": "[encoded data removed]"
          },
          "metadata": {},
          "execution_count": 32
        }
      ]
    },
    {
      "cell_type": "code",
      "source": [
        "backend = Aer.get_backend('qasm_simulator')\n",
        "counts = execute(dj_circuit, backend).result().get_counts()\n",
        "\n",
        "plot_histogram(counts)"
      ],
      "metadata": {
        "id": "gF0UXLFkvuU9",
        "colab": {
          "base_uri": "https://localhost:8080/",
          "height": 484
        },
        "outputId": "197944fe-5a1e-49e3-a61e-df4a619c57fb"
      },
      "execution_count": null,
      "outputs": [
        {
          "output_type": "execute_result",
          "data": {
            "text/plain": [
              "<Figure size 700x500 with 1 Axes>"
            ],
            "image/png": "[encoded data removed]"
          },
          "metadata": {},
          "execution_count": 33
        }
      ]
    }
  ],
  "metadata": {
    "colab": {
      "provenance": []
    },
    "kernelspec": {
      "display_name": "Python 3",
      "name": "python3"
    },
    "language_info": {
      "name": "python"
    }
  },
  "nbformat": 4,
  "nbformat_minor": 0
}